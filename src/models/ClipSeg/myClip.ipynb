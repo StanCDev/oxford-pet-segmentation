{
 "cells": [
  {
   "cell_type": "markdown",
   "id": "be4b2792",
   "metadata": {},
   "source": [
    "Importing Useful Libraries"
   ]
  },
  {
   "cell_type": "code",
   "execution_count": 1,
   "id": "72a871a0",
   "metadata": {},
   "outputs": [],
   "source": [
    "import torch\n",
    "import torchvision\n",
    "import torchvision.transforms as transforms\n",
    "from PIL import Image\n",
    "import clip\n",
    "import pandas as pd\n",
    "from IPython.display import display\n",
    "import numpy as np\n",
    "import torch.nn as nn\n",
    "import matplotlib.pyplot as plt \n",
    "import time\n",
    "import gdown\n",
    "import zipfile\n",
    "import os\n",
    "import cv2\n",
    "import json\n",
    "from torch.utils.data import Dataset, DataLoader\n",
    "import torch.nn.functional as F\n",
    "from torch.nn import TransformerDecoder, TransformerDecoderLayer\n"
   ]
  },
  {
   "cell_type": "code",
   "execution_count": null,
   "id": "6b514f02-fb49-451c-afce-a7f24399ca82",
   "metadata": {},
   "outputs": [
    {
     "name": "stdout",
     "output_type": "stream",
     "text": [
      "cuda\n"
     ]
    }
   ],
   "source": [
    "# Is this needed???\n",
    "device = \"cuda\" if torch.cuda.is_available() else \"cpu\"\n",
    "print(device)\n",
    "if device == 'cuda':\n",
    "    torch.cuda.empty_cache()"
   ]
  },
  {
   "cell_type": "markdown",
   "id": "0f49a986",
   "metadata": {},
   "source": [
    "Displaying some sample images, their masks and phrases"
   ]
  },
  {
   "cell_type": "code",
   "execution_count": null,
   "id": "56987679-db0a-40b7-bcfd-9e2cd00094e1",
   "metadata": {},
   "outputs": [],
   "source": [
    "#Show examples of data by reading the CSV file - images, masks and their phrases\n",
    "#Need to create CSV file with image_id, phrase and mask name that gets read in as a dataframe\n",
    "df = pd.read_csv(\"train_data.csv\")\n",
    "for i in range(5):\n",
    "    temp_ip = Image.open(\"/train/images/%s.jpg\" % df['image_id'][i])\n",
    "    display(temp_ip)\n",
    "    temp_op = Image.open(\"train_mask/%s.jpg\" % (str(df['image_id'][i]) + \".jpg_\" + str(df['phrase'][i])))\n",
    "    display(temp_op)\n",
    "    print(df['phrase'][i])"
   ]
  },
  {
   "cell_type": "markdown",
   "id": "6c06bc6d",
   "metadata": {},
   "source": [
    "Importing the CLIP model"
   ]
  },
  {
   "cell_type": "code",
   "execution_count": null,
   "id": "6cd877b6",
   "metadata": {},
   "outputs": [],
   "source": [
    "#Importing Clip model\n",
    "#! conda install --yes -c pytorch pytorch=1.7.1 torchvision cudatoolkit=11.0\n",
    "#! pip install ftfy regex tqdm\n",
    "#! pip install git+https://github.com/openai/CLIP.git"
   ]
  },
  {
   "cell_type": "markdown",
   "id": "0f50ab15",
   "metadata": {},
   "source": [
    "Creating DataLoader Class"
   ]
  },
  {
   "cell_type": "code",
   "execution_count": 2,
   "id": "bf457495",
   "metadata": {},
   "outputs": [],
   "source": [
    "#Creating custom dataloader class\n",
    "\n",
    "class PhraseCutDataset(Dataset):\n",
    "    def __init__(self, split = None):\n",
    "        super(PhraseCutDataset, self).__init__()\n",
    "        self.transform = transforms.Compose([transforms.ToTensor()])\n",
    "        if split == 'mini_train':\n",
    "            df = pd.read_csv(\"train_data.csv\")\n",
    "            \n",
    "            self.size = 1000\n",
    "            \n",
    "            self.phrases = df[\"phrase\"][0:1000]\n",
    "            self.tasks = df[\"task_id\"][0:1000]\n",
    "            self.input_images = []\n",
    "            self.outputs = []\n",
    "            for i in range(1000):\n",
    "                temp_ip = Image.open(\"phrasecut_dataset/VGPhraseCut_V0_sub_train+val/train/images/%s.jpg\" % df['image_id'][i])\n",
    "                temp_op = Image.open(\"train_mask/%s.jpg\" % (str(df['image_id'][i]) + \".jpg_\" + str(self.phrases[i])))\n",
    "                temp_ip = temp_ip.resize((352, 352))\n",
    "                temp_op = temp_op.resize((224, 224))\n",
    "                self.input_images.append(np.array(temp_ip, dtype=np.float32))\n",
    "                self.outputs.append(np.array(temp_op, dtype = np.float32)/255)\n",
    "\n",
    "        elif split == 'train':\n",
    "            df = pd.read_csv(\"train_data.csv\")\n",
    "            \n",
    "            self.size = 24001\n",
    "            \n",
    "            self.phrases = df[\"phrase\"][0:24001]\n",
    "            self.tasks = df[\"task_id\"][0:24001]\n",
    "            self.input_images = []\n",
    "            self.outputs = []\n",
    "            for i in range(24001):\n",
    "                if(i % 1000 == 0):\n",
    "                    print(f'{i} train images loaded')\n",
    "                temp_ip = Image.open(\"phrasecut_dataset/VGPhraseCut_V0_sub_train+val/train/images/%s.jpg\" % df['image_id'][i])\n",
    "                temp_op = Image.open(\"train_mask/%s.jpg\" % (str(df['image_id'][i]) + \".jpg_\" + str(self.phrases[i])))\n",
    "                temp_ip = temp_ip.resize((352, 352))\n",
    "                temp_op = temp_op.resize((224, 224))\n",
    "                self.input_images.append(np.array(temp_ip, dtype=np.float32))\n",
    "                self.outputs.append(np.array(temp_op, dtype = np.float32)/255)\n",
    "\n",
    "        elif split == 'val':\n",
    "            df = pd.read_csv(\"val_data.csv\")\n",
    "            \n",
    "            self.size = 994\n",
    "            \n",
    "            self.phrases = df[\"phrase\"][0:994]\n",
    "            self.tasks = df[\"task_id\"][0:994]\n",
    "            self.input_images = []\n",
    "            self.outputs = []\n",
    "            for i in range(994):\n",
    "                temp_ip = Image.open(\"phrasecut_dataset/VGPhraseCut_V0_sub_train+val/val/images/%s.jpg\" % df['image_id'][i])\n",
    "                temp_op = Image.open(\"val_mask/%s.jpg\" % (str(df['image_id'][i]) + \".jpg_\" + str(self.phrases[i])))\n",
    "                temp_ip = temp_ip.resize((352, 352))\n",
    "                temp_op = temp_op.resize((224, 224))\n",
    "\n",
    "                threshold = 128 \n",
    "                temp_op = np.where(np.array(temp_op) >= threshold, 255, 0)\n",
    "                \n",
    "                self.input_images.append(np.array(temp_ip, dtype=np.float32))\n",
    "                self.outputs.append(np.array(temp_op, dtype = np.float32)/255)\n",
    "\n",
    "        elif split == 'test':\n",
    "            df = pd.read_csv(\"val_data.csv\")\n",
    "            filtered_df = df.loc[1003:2002].reset_index(drop=True)\n",
    "            self.size = 999\n",
    "            \n",
    "            self.phrases = filtered_df[\"phrase\"][0:999]\n",
    "            self.tasks = filtered_df[\"task_id\"][0:999]\n",
    "            self.input_images = []\n",
    "            self.outputs = []\n",
    "            for i in range(999): \n",
    "                temp_ip = Image.open(\"phrasecut_dataset/VGPhraseCut_V0_sub_train+val/val/images/%s.jpg\" % filtered_df['image_id'][i])\n",
    "                temp_op = Image.open(\"val_mask/%s.jpg\" % (str(filtered_df['image_id'][i]) + \".jpg_\" + str(self.phrases[i])))\n",
    "\n",
    "                temp_ip = temp_ip.resize((352, 352))\n",
    "                temp_op = temp_op.resize((224, 224))\n",
    "\n",
    "                threshold = 128 \n",
    "                temp_op = np.where(np.array(temp_op) >= threshold, 255, 0)\n",
    "\n",
    "                self.input_images.append(np.array(temp_ip, dtype=np.float32))\n",
    "                self.outputs.append(np.array(temp_op, dtype = np.float32)/255)\n",
    "                \n",
    "                \n",
    "    def __len__(self):\n",
    "        return self.size\n",
    "    \n",
    "    def __getitem__(self, idx):\n",
    "        return self.phrases[idx], self.input_images[idx], self.outputs[idx], self.tasks[idx]    "
   ]
  },
  {
   "cell_type": "code",
   "execution_count": 3,
   "id": "50f26684",
   "metadata": {},
   "outputs": [
    {
     "name": "stdout",
     "output_type": "stream",
     "text": [
      "mini_train set loaded. Time taken = 7.2317094802856445 sec\n"
     ]
    }
   ],
   "source": [
    "# Loading the mini_train dataset\n",
    "tic = time.time()\n",
    "data = PhraseCutDataset('mini_train')\n",
    "mini_train = DataLoader(data, batch_size=1, shuffle=True)\n",
    "toc = time.time()\n",
    "print(f\"mini_train set loaded. Time taken = {toc - tic} sec\")"
   ]
  },
  {
   "cell_type": "code",
   "execution_count": 4,
   "id": "a0f594d9",
   "metadata": {},
   "outputs": [
    {
     "name": "stdout",
     "output_type": "stream",
     "text": [
      "0 train images loaded\n",
      "1000 train images loaded\n",
      "2000 train images loaded\n",
      "3000 train images loaded\n",
      "4000 train images loaded\n",
      "5000 train images loaded\n",
      "6000 train images loaded\n",
      "7000 train images loaded\n",
      "8000 train images loaded\n",
      "9000 train images loaded\n",
      "10000 train images loaded\n",
      "11000 train images loaded\n",
      "12000 train images loaded\n",
      "13000 train images loaded\n",
      "14000 train images loaded\n",
      "15000 train images loaded\n",
      "16000 train images loaded\n",
      "17000 train images loaded\n",
      "18000 train images loaded\n",
      "19000 train images loaded\n",
      "20000 train images loaded\n",
      "21000 train images loaded\n",
      "22000 train images loaded\n",
      "23000 train images loaded\n",
      "24000 train images loaded\n",
      "train set loaded. Time taken = 204.85014462471008 sec\n"
     ]
    }
   ],
   "source": [
    "# Loading the train dataset\n",
    "tic = time.time()\n",
    "data = PhraseCutDataset('train')\n",
    "train = DataLoader(data, batch_size=1, shuffle=True)\n",
    "toc = time.time()\n",
    "print(f\"train set loaded. Time taken = {toc - tic} sec\")"
   ]
  },
  {
   "cell_type": "code",
   "execution_count": 5,
   "id": "f35446e0",
   "metadata": {},
   "outputs": [
    {
     "name": "stdout",
     "output_type": "stream",
     "text": [
      "val set loaded. Time taken = 9.688658475875854 sec\n"
     ]
    }
   ],
   "source": [
    "# Loading the val dataset\n",
    "tic = time.time()\n",
    "data = PhraseCutDataset('val')\n",
    "val = DataLoader(data, batch_size=1, shuffle=True)\n",
    "toc = time.time()\n",
    "print(f\"val set loaded. Time taken = {toc - tic} sec\")"
   ]
  },
  {
   "cell_type": "code",
   "execution_count": 6,
   "id": "710f16b7",
   "metadata": {},
   "outputs": [
    {
     "name": "stdout",
     "output_type": "stream",
     "text": [
      "test set loaded. Time taken = 10.523796796798706 sec\n"
     ]
    }
   ],
   "source": [
    "# Loading the test dataset\n",
    "tic = time.time()\n",
    "data = PhraseCutDataset('test')\n",
    "test = DataLoader(data, batch_size=1, shuffle=True)\n",
    "toc = time.time()\n",
    "print(f\"test set loaded. Time taken = {toc - tic} sec\")"
   ]
  },
  {
   "cell_type": "markdown",
   "id": "89c15e8a",
   "metadata": {},
   "source": [
    "1. Using BCELoss"
   ]
  },
  {
   "cell_type": "markdown",
   "id": "d7e7cc5a",
   "metadata": {},
   "source": [
    "Encoder using CLIP model"
   ]
  },
  {
   "cell_type": "code",
   "execution_count": 12,
   "id": "01a4e609",
   "metadata": {},
   "outputs": [
    {
     "name": "stderr",
     "output_type": "stream",
     "text": [
      "Some weights of the model checkpoint at openai/clip-vit-base-patch32 were not used when initializing CLIPTextModel: ['text_projection.weight', 'vision_model.encoder.layers.7.self_attn.q_proj.bias', 'vision_model.encoder.layers.10.mlp.fc2.bias', 'vision_model.encoder.layers.3.layer_norm2.weight', 'visual_projection.weight', 'vision_model.encoder.layers.10.layer_norm1.bias', 'vision_model.encoder.layers.0.mlp.fc1.weight', 'vision_model.encoder.layers.2.mlp.fc2.bias', 'logit_scale', 'vision_model.encoder.layers.2.mlp.fc1.weight', 'vision_model.encoder.layers.10.self_attn.q_proj.weight', 'vision_model.encoder.layers.7.self_attn.v_proj.bias', 'vision_model.encoder.layers.8.mlp.fc2.weight', 'vision_model.encoder.layers.2.self_attn.k_proj.bias', 'vision_model.post_layernorm.weight', 'vision_model.encoder.layers.5.self_attn.k_proj.weight', 'vision_model.encoder.layers.7.self_attn.out_proj.weight', 'vision_model.encoder.layers.4.self_attn.q_proj.weight', 'vision_model.encoder.layers.2.mlp.fc1.bias', 'vision_model.encoder.layers.5.layer_norm2.weight', 'vision_model.encoder.layers.4.mlp.fc2.weight', 'vision_model.encoder.layers.11.self_attn.v_proj.weight', 'vision_model.encoder.layers.5.mlp.fc1.weight', 'vision_model.encoder.layers.6.self_attn.out_proj.bias', 'vision_model.encoder.layers.8.self_attn.out_proj.bias', 'vision_model.encoder.layers.0.self_attn.out_proj.weight', 'vision_model.encoder.layers.5.self_attn.q_proj.bias', 'vision_model.encoder.layers.10.self_attn.v_proj.bias', 'vision_model.encoder.layers.11.self_attn.q_proj.weight', 'vision_model.encoder.layers.10.self_attn.out_proj.weight', 'vision_model.encoder.layers.8.self_attn.out_proj.weight', 'vision_model.encoder.layers.9.layer_norm2.bias', 'vision_model.encoder.layers.11.layer_norm2.bias', 'vision_model.encoder.layers.3.mlp.fc2.weight', 'vision_model.encoder.layers.2.self_attn.q_proj.bias', 'vision_model.encoder.layers.6.self_attn.q_proj.weight', 'vision_model.encoder.layers.10.layer_norm1.weight', 'vision_model.encoder.layers.1.self_attn.v_proj.weight', 'vision_model.encoder.layers.1.self_attn.q_proj.weight', 'vision_model.encoder.layers.3.self_attn.out_proj.weight', 'vision_model.encoder.layers.10.self_attn.v_proj.weight', 'vision_model.encoder.layers.9.self_attn.q_proj.bias', 'vision_model.encoder.layers.3.self_attn.k_proj.bias', 'vision_model.encoder.layers.7.mlp.fc1.weight', 'vision_model.encoder.layers.2.self_attn.out_proj.bias', 'vision_model.encoder.layers.8.self_attn.k_proj.bias', 'vision_model.encoder.layers.4.layer_norm2.weight', 'vision_model.encoder.layers.11.self_attn.v_proj.bias', 'vision_model.encoder.layers.5.layer_norm1.bias', 'vision_model.encoder.layers.11.self_attn.q_proj.bias', 'vision_model.encoder.layers.9.layer_norm2.weight', 'vision_model.encoder.layers.5.mlp.fc2.weight', 'vision_model.encoder.layers.2.self_attn.q_proj.weight', 'vision_model.encoder.layers.6.self_attn.v_proj.weight', 'vision_model.encoder.layers.3.self_attn.out_proj.bias', 'vision_model.encoder.layers.7.mlp.fc1.bias', 'vision_model.encoder.layers.8.mlp.fc1.bias', 'vision_model.encoder.layers.3.layer_norm1.bias', 'vision_model.encoder.layers.9.self_attn.k_proj.weight', 'vision_model.encoder.layers.11.mlp.fc2.bias', 'vision_model.encoder.layers.1.mlp.fc1.weight', 'vision_model.encoder.layers.4.layer_norm1.weight', 'vision_model.encoder.layers.1.mlp.fc1.bias', 'vision_model.encoder.layers.3.self_attn.q_proj.bias', 'vision_model.encoder.layers.8.self_attn.k_proj.weight', 'vision_model.encoder.layers.11.self_attn.out_proj.weight', 'vision_model.encoder.layers.0.self_attn.v_proj.weight', 'vision_model.encoder.layers.7.layer_norm2.weight', 'vision_model.encoder.layers.0.self_attn.q_proj.bias', 'vision_model.encoder.layers.6.mlp.fc2.bias', 'vision_model.encoder.layers.5.mlp.fc1.bias', 'vision_model.encoder.layers.4.layer_norm2.bias', 'vision_model.encoder.layers.4.self_attn.out_proj.weight', 'vision_model.encoder.layers.11.mlp.fc1.bias', 'vision_model.encoder.layers.10.self_attn.q_proj.bias', 'vision_model.encoder.layers.6.layer_norm1.weight', 'vision_model.encoder.layers.3.layer_norm1.weight', 'vision_model.encoder.layers.8.layer_norm2.bias', 'vision_model.encoder.layers.10.self_attn.k_proj.bias', 'vision_model.encoder.layers.8.self_attn.q_proj.weight', 'vision_model.encoder.layers.2.layer_norm1.weight', 'vision_model.encoder.layers.3.self_attn.k_proj.weight', 'vision_model.post_layernorm.bias', 'vision_model.encoder.layers.6.self_attn.v_proj.bias', 'vision_model.encoder.layers.4.self_attn.v_proj.bias', 'vision_model.encoder.layers.0.self_attn.out_proj.bias', 'vision_model.encoder.layers.8.layer_norm2.weight', 'vision_model.encoder.layers.9.mlp.fc1.bias', 'vision_model.encoder.layers.1.mlp.fc2.weight', 'vision_model.encoder.layers.5.mlp.fc2.bias', 'vision_model.encoder.layers.9.mlp.fc1.weight', 'vision_model.encoder.layers.11.layer_norm2.weight', 'vision_model.encoder.layers.5.layer_norm2.bias', 'vision_model.encoder.layers.2.layer_norm2.bias', 'vision_model.pre_layrnorm.weight', 'vision_model.encoder.layers.3.self_attn.q_proj.weight', 'vision_model.encoder.layers.1.self_attn.k_proj.bias', 'vision_model.encoder.layers.9.self_attn.v_proj.weight', 'vision_model.encoder.layers.7.self_attn.v_proj.weight', 'vision_model.encoder.layers.6.mlp.fc1.bias', 'vision_model.encoder.layers.0.self_attn.k_proj.weight', 'vision_model.embeddings.position_embedding.weight', 'vision_model.encoder.layers.7.self_attn.out_proj.bias', 'vision_model.encoder.layers.1.layer_norm2.bias', 'vision_model.encoder.layers.5.layer_norm1.weight', 'vision_model.encoder.layers.3.mlp.fc2.bias', 'vision_model.encoder.layers.2.self_attn.v_proj.weight', 'vision_model.encoder.layers.7.layer_norm1.weight', 'vision_model.encoder.layers.7.self_attn.k_proj.bias', 'vision_model.encoder.layers.11.mlp.fc1.weight', 'vision_model.encoder.layers.9.layer_norm1.weight', 'vision_model.encoder.layers.3.mlp.fc1.weight', 'vision_model.encoder.layers.4.mlp.fc1.weight', 'vision_model.encoder.layers.1.layer_norm2.weight', 'vision_model.encoder.layers.6.layer_norm1.bias', 'vision_model.encoder.layers.7.self_attn.q_proj.weight', 'vision_model.encoder.layers.3.layer_norm2.bias', 'vision_model.encoder.layers.0.layer_norm2.weight', 'vision_model.encoder.layers.8.layer_norm1.weight', 'vision_model.encoder.layers.11.layer_norm1.bias', 'vision_model.encoder.layers.8.mlp.fc2.bias', 'vision_model.encoder.layers.9.self_attn.q_proj.weight', 'vision_model.encoder.layers.8.self_attn.v_proj.bias', 'vision_model.encoder.layers.0.layer_norm1.weight', 'vision_model.encoder.layers.7.layer_norm1.bias', 'vision_model.encoder.layers.1.self_attn.k_proj.weight', 'vision_model.encoder.layers.1.layer_norm1.weight', 'vision_model.encoder.layers.2.layer_norm2.weight', 'vision_model.encoder.layers.8.self_attn.v_proj.weight', 'vision_model.encoder.layers.9.self_attn.out_proj.weight', 'vision_model.encoder.layers.1.mlp.fc2.bias', 'vision_model.encoder.layers.4.self_attn.q_proj.bias', 'vision_model.encoder.layers.3.mlp.fc1.bias', 'vision_model.encoder.layers.10.self_attn.out_proj.bias', 'vision_model.encoder.layers.10.self_attn.k_proj.weight', 'vision_model.encoder.layers.11.mlp.fc2.weight', 'vision_model.encoder.layers.8.self_attn.q_proj.bias', 'vision_model.encoder.layers.1.self_attn.v_proj.bias', 'vision_model.encoder.layers.11.self_attn.out_proj.bias', 'vision_model.encoder.layers.4.mlp.fc2.bias', 'vision_model.encoder.layers.9.self_attn.v_proj.bias', 'vision_model.encoder.layers.6.self_attn.k_proj.bias', 'vision_model.encoder.layers.0.self_attn.k_proj.bias', 'vision_model.encoder.layers.6.self_attn.out_proj.weight', 'vision_model.encoder.layers.9.mlp.fc2.weight', 'vision_model.encoder.layers.10.mlp.fc2.weight', 'vision_model.encoder.layers.11.self_attn.k_proj.weight', 'vision_model.encoder.layers.1.self_attn.q_proj.bias', 'vision_model.encoder.layers.2.self_attn.k_proj.weight', 'vision_model.encoder.layers.11.self_attn.k_proj.bias', 'vision_model.encoder.layers.0.mlp.fc2.bias', 'vision_model.encoder.layers.1.self_attn.out_proj.weight', 'vision_model.encoder.layers.0.layer_norm1.bias', 'vision_model.encoder.layers.0.self_attn.q_proj.weight', 'vision_model.encoder.layers.6.layer_norm2.weight', 'vision_model.encoder.layers.8.mlp.fc1.weight', 'vision_model.encoder.layers.4.layer_norm1.bias', 'vision_model.encoder.layers.2.self_attn.out_proj.weight', 'vision_model.encoder.layers.0.mlp.fc1.bias', 'vision_model.encoder.layers.10.mlp.fc1.weight', 'vision_model.encoder.layers.4.mlp.fc1.bias', 'vision_model.encoder.layers.7.layer_norm2.bias', 'vision_model.encoder.layers.5.self_attn.q_proj.weight', 'vision_model.encoder.layers.1.layer_norm1.bias', 'vision_model.encoder.layers.5.self_attn.out_proj.weight', 'vision_model.encoder.layers.0.mlp.fc2.weight', 'vision_model.encoder.layers.0.layer_norm2.bias', 'vision_model.encoder.layers.11.layer_norm1.weight', 'vision_model.encoder.layers.7.mlp.fc2.bias', 'vision_model.encoder.layers.10.mlp.fc1.bias', 'vision_model.encoder.layers.9.mlp.fc2.bias', 'vision_model.encoder.layers.4.self_attn.k_proj.weight', 'vision_model.encoder.layers.8.layer_norm1.bias', 'vision_model.encoder.layers.5.self_attn.out_proj.bias', 'vision_model.encoder.layers.6.mlp.fc1.weight', 'vision_model.encoder.layers.0.self_attn.v_proj.bias', 'vision_model.embeddings.class_embedding', 'vision_model.encoder.layers.9.layer_norm1.bias', 'vision_model.encoder.layers.2.layer_norm1.bias', 'vision_model.encoder.layers.9.self_attn.k_proj.bias', 'vision_model.embeddings.position_ids', 'vision_model.pre_layrnorm.bias', 'vision_model.encoder.layers.6.layer_norm2.bias', 'vision_model.encoder.layers.6.mlp.fc2.weight', 'vision_model.encoder.layers.2.self_attn.v_proj.bias', 'vision_model.encoder.layers.3.self_attn.v_proj.weight', 'vision_model.encoder.layers.5.self_attn.k_proj.bias', 'vision_model.encoder.layers.6.self_attn.k_proj.weight', 'vision_model.encoder.layers.6.self_attn.q_proj.bias', 'vision_model.encoder.layers.4.self_attn.out_proj.bias', 'vision_model.encoder.layers.5.self_attn.v_proj.weight', 'vision_model.encoder.layers.10.layer_norm2.bias', 'vision_model.encoder.layers.1.self_attn.out_proj.bias', 'vision_model.encoder.layers.7.mlp.fc2.weight', 'vision_model.encoder.layers.10.layer_norm2.weight', 'vision_model.embeddings.patch_embedding.weight', 'vision_model.encoder.layers.5.self_attn.v_proj.bias', 'vision_model.encoder.layers.3.self_attn.v_proj.bias', 'vision_model.encoder.layers.2.mlp.fc2.weight', 'vision_model.encoder.layers.9.self_attn.out_proj.bias', 'vision_model.encoder.layers.7.self_attn.k_proj.weight', 'vision_model.encoder.layers.4.self_attn.k_proj.bias', 'vision_model.encoder.layers.4.self_attn.v_proj.weight']\n",
      "- This IS expected if you are initializing CLIPTextModel from the checkpoint of a model trained on another task or with another architecture (e.g. initializing a BertForSequenceClassification model from a BertForPreTraining model).\n",
      "- This IS NOT expected if you are initializing CLIPTextModel from the checkpoint of a model that you expect to be exactly identical (initializing a BertForSequenceClassification model from a BertForSequenceClassification model).\n",
      "Some weights of the model checkpoint at openai/clip-vit-base-patch32 were not used when initializing CLIPVisionModelWithProjection: ['text_projection.weight', 'text_model.encoder.layers.1.self_attn.q_proj.bias', 'logit_scale', 'text_model.encoder.layers.8.self_attn.q_proj.bias', 'text_model.encoder.layers.7.mlp.fc2.weight', 'text_model.encoder.layers.4.self_attn.out_proj.bias', 'text_model.encoder.layers.8.self_attn.v_proj.weight', 'text_model.encoder.layers.9.self_attn.k_proj.weight', 'text_model.encoder.layers.4.self_attn.q_proj.bias', 'text_model.encoder.layers.4.self_attn.v_proj.weight', 'text_model.encoder.layers.9.mlp.fc1.bias', 'text_model.encoder.layers.1.mlp.fc2.weight', 'text_model.encoder.layers.11.layer_norm1.weight', 'text_model.encoder.layers.6.mlp.fc1.weight', 'text_model.encoder.layers.7.self_attn.v_proj.weight', 'text_model.encoder.layers.10.layer_norm1.weight', 'text_model.encoder.layers.0.mlp.fc1.bias', 'text_model.encoder.layers.7.self_attn.v_proj.bias', 'text_model.encoder.layers.0.mlp.fc1.weight', 'text_model.encoder.layers.10.mlp.fc1.bias', 'text_model.encoder.layers.1.mlp.fc2.bias', 'text_model.encoder.layers.8.self_attn.q_proj.weight', 'text_model.encoder.layers.0.self_attn.q_proj.weight', 'text_model.encoder.layers.7.self_attn.k_proj.weight', 'text_model.encoder.layers.2.mlp.fc1.bias', 'text_model.encoder.layers.5.self_attn.q_proj.bias', 'text_model.encoder.layers.8.self_attn.k_proj.bias', 'text_model.encoder.layers.9.layer_norm1.bias', 'text_model.encoder.layers.10.mlp.fc2.weight', 'text_model.encoder.layers.5.layer_norm1.bias', 'text_model.encoder.layers.3.layer_norm1.weight', 'text_model.encoder.layers.1.self_attn.v_proj.weight', 'text_model.encoder.layers.5.layer_norm2.weight', 'text_model.encoder.layers.5.mlp.fc2.weight', 'text_model.encoder.layers.7.self_attn.out_proj.bias', 'text_model.encoder.layers.3.self_attn.q_proj.bias', 'text_model.encoder.layers.0.layer_norm2.bias', 'text_model.encoder.layers.11.mlp.fc2.bias', 'text_model.encoder.layers.4.mlp.fc2.weight', 'text_model.encoder.layers.5.self_attn.k_proj.weight', 'text_model.encoder.layers.8.mlp.fc1.weight', 'text_model.encoder.layers.8.layer_norm1.bias', 'text_model.encoder.layers.2.self_attn.q_proj.bias', 'text_model.encoder.layers.0.layer_norm2.weight', 'text_model.encoder.layers.4.layer_norm1.weight', 'text_model.encoder.layers.10.self_attn.v_proj.weight', 'text_model.encoder.layers.5.layer_norm1.weight', 'text_model.encoder.layers.9.self_attn.q_proj.bias', 'text_model.encoder.layers.6.layer_norm1.weight', 'text_model.encoder.layers.4.self_attn.k_proj.weight', 'text_model.encoder.layers.0.self_attn.q_proj.bias', 'text_model.encoder.layers.2.self_attn.out_proj.bias', 'text_model.encoder.layers.1.self_attn.q_proj.weight', 'text_model.encoder.layers.9.self_attn.v_proj.weight', 'text_model.encoder.layers.4.layer_norm1.bias', 'text_model.encoder.layers.6.layer_norm2.weight', 'text_model.encoder.layers.11.layer_norm1.bias', 'text_model.encoder.layers.4.self_attn.k_proj.bias', 'text_model.encoder.layers.3.mlp.fc2.weight', 'text_model.encoder.layers.6.self_attn.q_proj.bias', 'text_model.encoder.layers.11.self_attn.out_proj.bias', 'text_model.encoder.layers.10.mlp.fc1.weight', 'text_model.encoder.layers.3.mlp.fc2.bias', 'text_model.encoder.layers.1.self_attn.k_proj.bias', 'text_model.encoder.layers.3.self_attn.out_proj.weight', 'text_model.encoder.layers.5.self_attn.out_proj.bias', 'text_model.encoder.layers.11.self_attn.v_proj.weight', 'text_model.encoder.layers.10.self_attn.q_proj.weight', 'text_model.encoder.layers.5.layer_norm2.bias', 'text_model.encoder.layers.4.self_attn.out_proj.weight', 'text_model.encoder.layers.7.layer_norm1.weight', 'text_model.encoder.layers.4.mlp.fc1.weight', 'text_model.encoder.layers.11.self_attn.v_proj.bias', 'text_model.encoder.layers.7.layer_norm1.bias', 'text_model.encoder.layers.11.mlp.fc2.weight', 'text_model.encoder.layers.10.layer_norm2.weight', 'text_model.encoder.layers.3.layer_norm2.bias', 'text_model.encoder.layers.3.self_attn.out_proj.bias', 'text_model.encoder.layers.8.mlp.fc2.bias', 'text_model.final_layer_norm.bias', 'text_model.encoder.layers.5.mlp.fc1.weight', 'text_model.encoder.layers.5.self_attn.v_proj.weight', 'text_model.encoder.layers.8.layer_norm2.bias', 'text_model.encoder.layers.3.layer_norm2.weight', 'text_model.encoder.layers.10.mlp.fc2.bias', 'text_model.encoder.layers.1.layer_norm1.bias', 'text_model.encoder.layers.1.mlp.fc1.bias', 'text_model.encoder.layers.7.mlp.fc1.bias', 'text_model.encoder.layers.4.mlp.fc2.bias', 'text_model.encoder.layers.7.self_attn.q_proj.bias', 'text_model.encoder.layers.10.self_attn.out_proj.bias', 'text_model.final_layer_norm.weight', 'text_model.encoder.layers.5.self_attn.v_proj.bias', 'text_model.encoder.layers.6.self_attn.v_proj.weight', 'text_model.encoder.layers.8.self_attn.out_proj.weight', 'text_model.encoder.layers.0.mlp.fc2.bias', 'text_model.encoder.layers.10.self_attn.out_proj.weight', 'text_model.encoder.layers.11.self_attn.q_proj.weight', 'text_model.encoder.layers.2.self_attn.q_proj.weight', 'text_model.encoder.layers.9.mlp.fc2.weight', 'text_model.encoder.layers.10.layer_norm1.bias', 'text_model.encoder.layers.6.self_attn.v_proj.bias', 'text_model.encoder.layers.6.self_attn.k_proj.bias', 'text_model.encoder.layers.0.mlp.fc2.weight', 'text_model.encoder.layers.5.self_attn.q_proj.weight', 'text_model.encoder.layers.7.mlp.fc1.weight', 'text_model.encoder.layers.1.self_attn.out_proj.bias', 'text_model.embeddings.position_embedding.weight', 'text_model.encoder.layers.6.layer_norm1.bias', 'text_model.encoder.layers.10.layer_norm2.bias', 'text_model.encoder.layers.4.layer_norm2.weight', 'text_model.encoder.layers.1.self_attn.k_proj.weight', 'text_model.encoder.layers.8.layer_norm2.weight', 'text_model.encoder.layers.6.self_attn.out_proj.weight', 'text_model.encoder.layers.7.layer_norm2.weight', 'text_model.encoder.layers.11.self_attn.k_proj.bias', 'text_model.encoder.layers.9.self_attn.out_proj.bias', 'text_model.encoder.layers.4.self_attn.v_proj.bias', 'text_model.encoder.layers.1.layer_norm2.weight', 'text_model.encoder.layers.2.layer_norm1.weight', 'text_model.encoder.layers.1.mlp.fc1.weight', 'text_model.encoder.layers.0.layer_norm1.weight', 'text_model.encoder.layers.2.layer_norm2.weight', 'text_model.encoder.layers.6.mlp.fc2.weight', 'text_model.encoder.layers.9.self_attn.k_proj.bias', 'text_model.encoder.layers.10.self_attn.k_proj.bias', 'text_model.encoder.layers.3.self_attn.v_proj.weight', 'text_model.encoder.layers.3.self_attn.k_proj.bias', 'text_model.encoder.layers.0.self_attn.k_proj.weight', 'text_model.encoder.layers.10.self_attn.q_proj.bias', 'text_model.encoder.layers.9.self_attn.q_proj.weight', 'text_model.encoder.layers.8.mlp.fc2.weight', 'text_model.encoder.layers.2.self_attn.v_proj.bias', 'text_model.encoder.layers.0.self_attn.v_proj.weight', 'text_model.encoder.layers.8.layer_norm1.weight', 'text_model.encoder.layers.7.layer_norm2.bias', 'text_model.encoder.layers.6.self_attn.out_proj.bias', 'text_model.encoder.layers.7.self_attn.q_proj.weight', 'text_model.encoder.layers.5.self_attn.k_proj.bias', 'text_model.encoder.layers.8.mlp.fc1.bias', 'text_model.encoder.layers.3.self_attn.k_proj.weight', 'text_model.encoder.layers.0.layer_norm1.bias', 'text_model.encoder.layers.2.self_attn.k_proj.weight', 'text_model.encoder.layers.9.mlp.fc2.bias', 'text_model.encoder.layers.11.layer_norm2.weight', 'text_model.encoder.layers.4.layer_norm2.bias', 'text_model.encoder.layers.6.self_attn.q_proj.weight', 'text_model.encoder.layers.9.layer_norm2.bias', 'text_model.encoder.layers.9.mlp.fc1.weight', 'text_model.encoder.layers.2.self_attn.v_proj.weight', 'text_model.encoder.layers.2.self_attn.out_proj.weight', 'text_model.encoder.layers.1.layer_norm2.bias', 'text_model.encoder.layers.2.layer_norm1.bias', 'text_model.encoder.layers.3.self_attn.q_proj.weight', 'text_model.encoder.layers.5.self_attn.out_proj.weight', 'text_model.encoder.layers.6.layer_norm2.bias', 'text_model.encoder.layers.4.mlp.fc1.bias', 'text_model.encoder.layers.8.self_attn.k_proj.weight', 'text_model.encoder.layers.2.self_attn.k_proj.bias', 'text_model.encoder.layers.7.mlp.fc2.bias', 'text_model.encoder.layers.10.self_attn.k_proj.weight', 'text_model.encoder.layers.2.layer_norm2.bias', 'text_model.embeddings.position_ids', 'text_model.encoder.layers.4.self_attn.q_proj.weight', 'text_model.encoder.layers.0.self_attn.out_proj.bias', 'text_model.encoder.layers.5.mlp.fc2.bias', 'text_model.encoder.layers.2.mlp.fc1.weight', 'text_model.encoder.layers.3.self_attn.v_proj.bias', 'text_model.encoder.layers.3.mlp.fc1.bias', 'text_model.encoder.layers.11.self_attn.q_proj.bias', 'text_model.encoder.layers.7.self_attn.out_proj.weight', 'text_model.encoder.layers.6.self_attn.k_proj.weight', 'text_model.encoder.layers.9.self_attn.v_proj.bias', 'text_model.encoder.layers.0.self_attn.v_proj.bias', 'text_model.encoder.layers.1.self_attn.out_proj.weight', 'text_model.embeddings.token_embedding.weight', 'text_model.encoder.layers.11.mlp.fc1.bias', 'text_model.encoder.layers.2.mlp.fc2.bias', 'text_model.encoder.layers.3.mlp.fc1.weight', 'text_model.encoder.layers.2.mlp.fc2.weight', 'text_model.encoder.layers.1.layer_norm1.weight', 'text_model.encoder.layers.9.layer_norm2.weight', 'text_model.encoder.layers.9.layer_norm1.weight', 'text_model.encoder.layers.6.mlp.fc1.bias', 'text_model.encoder.layers.9.self_attn.out_proj.weight', 'text_model.encoder.layers.11.self_attn.k_proj.weight', 'text_model.encoder.layers.0.self_attn.out_proj.weight', 'text_model.encoder.layers.8.self_attn.v_proj.bias', 'text_model.encoder.layers.7.self_attn.k_proj.bias', 'text_model.encoder.layers.6.mlp.fc2.bias', 'text_model.encoder.layers.11.layer_norm2.bias', 'text_model.encoder.layers.1.self_attn.v_proj.bias', 'text_model.encoder.layers.3.layer_norm1.bias', 'text_model.encoder.layers.11.self_attn.out_proj.weight', 'text_model.encoder.layers.5.mlp.fc1.bias', 'text_model.encoder.layers.10.self_attn.v_proj.bias', 'text_model.encoder.layers.11.mlp.fc1.weight', 'text_model.encoder.layers.8.self_attn.out_proj.bias', 'text_model.encoder.layers.0.self_attn.k_proj.bias']\n",
      "- This IS expected if you are initializing CLIPVisionModelWithProjection from the checkpoint of a model trained on another task or with another architecture (e.g. initializing a BertForSequenceClassification model from a BertForPreTraining model).\n",
      "- This IS NOT expected if you are initializing CLIPVisionModelWithProjection from the checkpoint of a model that you expect to be exactly identical (initializing a BertForSequenceClassification model from a BertForSequenceClassification model).\n"
     ]
    }
   ],
   "source": [
    "from encoder_model import Encoder\n",
    "encoder1 = Encoder()"
   ]
  },
  {
   "cell_type": "code",
   "execution_count": 11,
   "id": "c09d3554",
   "metadata": {},
   "outputs": [
    {
     "name": "stdout",
     "output_type": "stream",
     "text": [
      "Encoder(\n",
      "  (model): CLIPModel(\n",
      "    (text_model): CLIPTextTransformer(\n",
      "      (embeddings): CLIPTextEmbeddings(\n",
      "        (token_embedding): Embedding(49408, 512)\n",
      "        (position_embedding): Embedding(77, 512)\n",
      "      )\n",
      "      (encoder): CLIPEncoder(\n",
      "        (layers): ModuleList(\n",
      "          (0-11): 12 x CLIPEncoderLayer(\n",
      "            (self_attn): CLIPAttention(\n",
      "              (k_proj): Linear(in_features=512, out_features=512, bias=True)\n",
      "              (v_proj): Linear(in_features=512, out_features=512, bias=True)\n",
      "              (q_proj): Linear(in_features=512, out_features=512, bias=True)\n",
      "              (out_proj): Linear(in_features=512, out_features=512, bias=True)\n",
      "            )\n",
      "            (layer_norm1): LayerNorm((512,), eps=1e-05, elementwise_affine=True)\n",
      "            (mlp): CLIPMLP(\n",
      "              (activation_fn): QuickGELUActivation()\n",
      "              (fc1): Linear(in_features=512, out_features=2048, bias=True)\n",
      "              (fc2): Linear(in_features=2048, out_features=512, bias=True)\n",
      "            )\n",
      "            (layer_norm2): LayerNorm((512,), eps=1e-05, elementwise_affine=True)\n",
      "          )\n",
      "        )\n",
      "      )\n",
      "      (final_layer_norm): LayerNorm((512,), eps=1e-05, elementwise_affine=True)\n",
      "    )\n",
      "    (vision_model): CLIPVisionTransformer(\n",
      "      (embeddings): CLIPVisionEmbeddings(\n",
      "        (patch_embedding): Conv2d(3, 768, kernel_size=(32, 32), stride=(32, 32), bias=False)\n",
      "        (position_embedding): Embedding(50, 768)\n",
      "      )\n",
      "      (pre_layrnorm): LayerNorm((768,), eps=1e-05, elementwise_affine=True)\n",
      "      (encoder): CLIPEncoder(\n",
      "        (layers): ModuleList(\n",
      "          (0-11): 12 x CLIPEncoderLayer(\n",
      "            (self_attn): CLIPAttention(\n",
      "              (k_proj): Linear(in_features=768, out_features=768, bias=True)\n",
      "              (v_proj): Linear(in_features=768, out_features=768, bias=True)\n",
      "              (q_proj): Linear(in_features=768, out_features=768, bias=True)\n",
      "              (out_proj): Linear(in_features=768, out_features=768, bias=True)\n",
      "            )\n",
      "            (layer_norm1): LayerNorm((768,), eps=1e-05, elementwise_affine=True)\n",
      "            (mlp): CLIPMLP(\n",
      "              (activation_fn): QuickGELUActivation()\n",
      "              (fc1): Linear(in_features=768, out_features=3072, bias=True)\n",
      "              (fc2): Linear(in_features=3072, out_features=768, bias=True)\n",
      "            )\n",
      "            (layer_norm2): LayerNorm((768,), eps=1e-05, elementwise_affine=True)\n",
      "          )\n",
      "        )\n",
      "      )\n",
      "      (post_layernorm): LayerNorm((768,), eps=1e-05, elementwise_affine=True)\n",
      "    )\n",
      "    (visual_projection): Linear(in_features=768, out_features=512, bias=False)\n",
      "    (text_projection): Linear(in_features=512, out_features=512, bias=False)\n",
      "  )\n",
      "  (text_encoder): CLIPTextModel(\n",
      "    (text_model): CLIPTextTransformer(\n",
      "      (embeddings): CLIPTextEmbeddings(\n",
      "        (token_embedding): Embedding(49408, 512)\n",
      "        (position_embedding): Embedding(77, 512)\n",
      "      )\n",
      "      (encoder): CLIPEncoder(\n",
      "        (layers): ModuleList(\n",
      "          (0-11): 12 x CLIPEncoderLayer(\n",
      "            (self_attn): CLIPAttention(\n",
      "              (k_proj): Linear(in_features=512, out_features=512, bias=True)\n",
      "              (v_proj): Linear(in_features=512, out_features=512, bias=True)\n",
      "              (q_proj): Linear(in_features=512, out_features=512, bias=True)\n",
      "              (out_proj): Linear(in_features=512, out_features=512, bias=True)\n",
      "            )\n",
      "            (layer_norm1): LayerNorm((512,), eps=1e-05, elementwise_affine=True)\n",
      "            (mlp): CLIPMLP(\n",
      "              (activation_fn): QuickGELUActivation()\n",
      "              (fc1): Linear(in_features=512, out_features=2048, bias=True)\n",
      "              (fc2): Linear(in_features=2048, out_features=512, bias=True)\n",
      "            )\n",
      "            (layer_norm2): LayerNorm((512,), eps=1e-05, elementwise_affine=True)\n",
      "          )\n",
      "        )\n",
      "      )\n",
      "      (final_layer_norm): LayerNorm((512,), eps=1e-05, elementwise_affine=True)\n",
      "    )\n",
      "  )\n",
      "  (image_encoder): CLIPVisionModelWithProjection(\n",
      "    (vision_model): CLIPVisionTransformer(\n",
      "      (embeddings): CLIPVisionEmbeddings(\n",
      "        (patch_embedding): Conv2d(3, 768, kernel_size=(32, 32), stride=(32, 32), bias=False)\n",
      "        (position_embedding): Embedding(50, 768)\n",
      "      )\n",
      "      (pre_layrnorm): LayerNorm((768,), eps=1e-05, elementwise_affine=True)\n",
      "      (encoder): CLIPEncoder(\n",
      "        (layers): ModuleList(\n",
      "          (0-11): 12 x CLIPEncoderLayer(\n",
      "            (self_attn): CLIPAttention(\n",
      "              (k_proj): Linear(in_features=768, out_features=768, bias=True)\n",
      "              (v_proj): Linear(in_features=768, out_features=768, bias=True)\n",
      "              (q_proj): Linear(in_features=768, out_features=768, bias=True)\n",
      "              (out_proj): Linear(in_features=768, out_features=768, bias=True)\n",
      "            )\n",
      "            (layer_norm1): LayerNorm((768,), eps=1e-05, elementwise_affine=True)\n",
      "            (mlp): CLIPMLP(\n",
      "              (activation_fn): QuickGELUActivation()\n",
      "              (fc1): Linear(in_features=768, out_features=3072, bias=True)\n",
      "              (fc2): Linear(in_features=3072, out_features=768, bias=True)\n",
      "            )\n",
      "            (layer_norm2): LayerNorm((768,), eps=1e-05, elementwise_affine=True)\n",
      "          )\n",
      "        )\n",
      "      )\n",
      "      (post_layernorm): LayerNorm((768,), eps=1e-05, elementwise_affine=True)\n",
      "    )\n",
      "    (visual_projection): Linear(in_features=768, out_features=512, bias=False)\n",
      "  )\n",
      ")\n"
     ]
    }
   ],
   "source": [
    "print(encoder1)"
   ]
  },
  {
   "cell_type": "code",
   "execution_count": 12,
   "id": "90c7e50a",
   "metadata": {},
   "outputs": [
    {
     "name": "stdout",
     "output_type": "stream",
     "text": [
      "No of trainable parameters in the encoder - 0\n"
     ]
    }
   ],
   "source": [
    "num_e = sum(e.numel() for e in encoder1.parameters() if e.requires_grad)\n",
    "print(\"No of trainable parameters in the encoder -\", num_e)"
   ]
  },
  {
   "cell_type": "markdown",
   "id": "a42ddf0a",
   "metadata": {},
   "source": [
    "Creating custom Decoder"
   ]
  },
  {
   "cell_type": "code",
   "execution_count": 13,
   "id": "ecf31d03",
   "metadata": {},
   "outputs": [],
   "source": [
    "from decoder_model import Decoder\n",
    "\n",
    "decoder1 = Decoder()"
   ]
  },
  {
   "cell_type": "code",
   "execution_count": 14,
   "id": "1ca13983",
   "metadata": {},
   "outputs": [
    {
     "name": "stdout",
     "output_type": "stream",
     "text": [
      "Decoder(\n",
      "  (film_mul): Linear(in_features=512, out_features=128, bias=True)\n",
      "  (film_add): Linear(in_features=512, out_features=128, bias=True)\n",
      "  (reduce_blocks): ModuleList(\n",
      "    (0-3): 4 x Linear(in_features=768, out_features=128, bias=True)\n",
      "  )\n",
      "  (mha_blocks): ModuleList(\n",
      "    (0-3): 4 x TransformerEncoderLayer(\n",
      "      (self_attn): MultiheadAttention(\n",
      "        (out_proj): NonDynamicallyQuantizableLinear(in_features=128, out_features=128, bias=True)\n",
      "      )\n",
      "      (linear1): Linear(in_features=128, out_features=2048, bias=True)\n",
      "      (dropout): Dropout(p=0.1, inplace=False)\n",
      "      (linear2): Linear(in_features=2048, out_features=128, bias=True)\n",
      "      (norm1): LayerNorm((128,), eps=1e-05, elementwise_affine=True)\n",
      "      (norm2): LayerNorm((128,), eps=1e-05, elementwise_affine=True)\n",
      "      (dropout1): Dropout(p=0.1, inplace=False)\n",
      "      (dropout2): Dropout(p=0.1, inplace=False)\n",
      "    )\n",
      "  )\n",
      "  (trans_conv): Sequential(\n",
      "    (0): Conv2d(128, 128, kernel_size=(3, 3), stride=(1, 1), padding=(1, 1))\n",
      "    (1): ReLU()\n",
      "    (2): ConvTranspose2d(128, 64, kernel_size=(4, 4), stride=(4, 4))\n",
      "    (3): ReLU()\n",
      "    (4): ConvTranspose2d(64, 1, kernel_size=(8, 8), stride=(8, 8))\n",
      "  )\n",
      ")\n"
     ]
    }
   ],
   "source": [
    "print(decoder1)"
   ]
  },
  {
   "cell_type": "code",
   "execution_count": 15,
   "id": "ec62ebc4",
   "metadata": {},
   "outputs": [
    {
     "name": "stdout",
     "output_type": "stream",
     "text": [
      "No of trainable parameters in the decoder - 3179969\n"
     ]
    }
   ],
   "source": [
    "num_d = sum(d.numel() for d in decoder1.parameters() if d.requires_grad)\n",
    "print(\"No of trainable parameters in the decoder -\", num_d)"
   ]
  },
  {
   "cell_type": "markdown",
   "id": "1ab5bf1b",
   "metadata": {},
   "source": [
    "Training Loop"
   ]
  },
  {
   "cell_type": "code",
   "execution_count": 15,
   "id": "3c4046e4-dc9c-44f2-82c0-4b396c0bb912",
   "metadata": {},
   "outputs": [],
   "source": [
    "# Hyper-parameters\n",
    "import torch.optim.lr_scheduler as lr_scheduler\n",
    "criterion = nn.BCEWithLogitsLoss()\n",
    "optimizer = torch.optim.SGD(decoder1.parameters(), lr=1e-4)\n",
    "gamma = 0.9\n",
    "scheduler = lr_scheduler.ExponentialLR(optimizer, gamma=gamma)"
   ]
  },
  {
   "cell_type": "code",
   "execution_count": 17,
   "id": "2673a965",
   "metadata": {},
   "outputs": [
    {
     "name": "stdout",
     "output_type": "stream",
     "text": [
      "loss at epoch 1/10, iteration 2000/24001: 0.7014215588569641\n",
      "loss at epoch 1/10, iteration 4000/24001: 0.6722689270973206\n",
      "loss at epoch 1/10, iteration 6000/24001: 0.6422566771507263\n",
      "loss at epoch 1/10, iteration 8000/24001: 0.6111579537391663\n",
      "loss at epoch 1/10, iteration 10000/24001: 0.5951757431030273\n",
      "loss at epoch 1/10, iteration 12000/24001: 0.6250544190406799\n",
      "loss at epoch 1/10, iteration 14000/24001: 0.542205810546875\n",
      "loss at epoch 1/10, iteration 16000/24001: 0.5960659980773926\n",
      "loss at epoch 1/10, iteration 18000/24001: 0.5442551374435425\n",
      "loss at epoch 1/10, iteration 20000/24001: 0.5011155605316162\n",
      "loss at epoch 1/10, iteration 22000/24001: 0.5670962929725647\n",
      "loss at epoch 1/10, iteration 24000/24001: 0.46695476770401\n",
      "loss at epoch 2/10, iteration 2000/24001: 0.44678792357444763\n",
      "loss at epoch 2/10, iteration 4000/24001: 0.45605769753456116\n",
      "loss at epoch 2/10, iteration 6000/24001: 0.45217975974082947\n",
      "loss at epoch 2/10, iteration 8000/24001: 0.4337829351425171\n",
      "loss at epoch 2/10, iteration 10000/24001: 0.4361741244792938\n",
      "loss at epoch 2/10, iteration 12000/24001: 0.5963312387466431\n",
      "loss at epoch 2/10, iteration 14000/24001: 0.42436933517456055\n",
      "loss at epoch 2/10, iteration 16000/24001: 0.3637956976890564\n",
      "loss at epoch 2/10, iteration 18000/24001: 0.5761321187019348\n",
      "loss at epoch 2/10, iteration 20000/24001: 0.34495916962623596\n",
      "loss at epoch 2/10, iteration 22000/24001: 0.4150761067867279\n",
      "loss at epoch 2/10, iteration 24000/24001: 0.40244340896606445\n",
      "loss at epoch 3/10, iteration 2000/24001: 0.3878614604473114\n",
      "loss at epoch 3/10, iteration 4000/24001: 0.45326516032218933\n",
      "loss at epoch 3/10, iteration 6000/24001: 0.3616279661655426\n",
      "loss at epoch 3/10, iteration 8000/24001: 0.519756019115448\n",
      "loss at epoch 3/10, iteration 10000/24001: 0.3186015188694\n",
      "loss at epoch 3/10, iteration 12000/24001: 0.30945464968681335\n",
      "loss at epoch 3/10, iteration 14000/24001: 0.3021045923233032\n",
      "loss at epoch 3/10, iteration 16000/24001: 0.3895285427570343\n",
      "loss at epoch 3/10, iteration 18000/24001: 0.28803369402885437\n",
      "loss at epoch 3/10, iteration 20000/24001: 0.402007132768631\n",
      "loss at epoch 3/10, iteration 22000/24001: 0.7097630500793457\n",
      "loss at epoch 3/10, iteration 24000/24001: 0.29449212551116943\n",
      "loss at epoch 4/10, iteration 2000/24001: 1.1430522203445435\n",
      "loss at epoch 4/10, iteration 4000/24001: 0.28590816259384155\n",
      "loss at epoch 4/10, iteration 6000/24001: 0.29873284697532654\n",
      "loss at epoch 4/10, iteration 8000/24001: 0.6661829948425293\n",
      "loss at epoch 4/10, iteration 10000/24001: 0.2598733603954315\n",
      "loss at epoch 4/10, iteration 12000/24001: 0.8231849670410156\n",
      "loss at epoch 4/10, iteration 14000/24001: 0.27797260880470276\n",
      "loss at epoch 4/10, iteration 16000/24001: 0.2982538640499115\n",
      "loss at epoch 4/10, iteration 18000/24001: 0.31712237000465393\n",
      "loss at epoch 4/10, iteration 20000/24001: 0.33444300293922424\n",
      "loss at epoch 4/10, iteration 22000/24001: 0.5295121073722839\n",
      "loss at epoch 4/10, iteration 24000/24001: 0.3542713224887848\n",
      "loss at epoch 5/10, iteration 2000/24001: 0.28141137957572937\n",
      "loss at epoch 5/10, iteration 4000/24001: 0.29140061140060425\n",
      "loss at epoch 5/10, iteration 6000/24001: 0.30755186080932617\n",
      "loss at epoch 5/10, iteration 8000/24001: 0.464739054441452\n",
      "loss at epoch 5/10, iteration 10000/24001: 0.6756859421730042\n",
      "loss at epoch 5/10, iteration 12000/24001: 0.30605465173721313\n",
      "loss at epoch 5/10, iteration 14000/24001: 0.2501525580883026\n",
      "loss at epoch 5/10, iteration 16000/24001: 0.27700480818748474\n",
      "loss at epoch 5/10, iteration 18000/24001: 0.2916872501373291\n",
      "loss at epoch 5/10, iteration 20000/24001: 0.3934130072593689\n",
      "loss at epoch 5/10, iteration 22000/24001: 0.5763058066368103\n",
      "loss at epoch 5/10, iteration 24000/24001: 0.3014373481273651\n",
      "loss at epoch 6/10, iteration 2000/24001: 0.5551477670669556\n",
      "loss at epoch 6/10, iteration 4000/24001: 0.4568574130535126\n",
      "loss at epoch 6/10, iteration 6000/24001: 0.22763194143772125\n",
      "loss at epoch 6/10, iteration 8000/24001: 0.4653750956058502\n",
      "loss at epoch 6/10, iteration 10000/24001: 0.26891329884529114\n",
      "loss at epoch 6/10, iteration 12000/24001: 0.3508162200450897\n",
      "loss at epoch 6/10, iteration 14000/24001: 0.22341370582580566\n",
      "loss at epoch 6/10, iteration 16000/24001: 0.28063204884529114\n",
      "loss at epoch 6/10, iteration 18000/24001: 0.22227369248867035\n",
      "loss at epoch 6/10, iteration 20000/24001: 0.6800196766853333\n",
      "loss at epoch 6/10, iteration 22000/24001: 0.2586992084980011\n",
      "loss at epoch 6/10, iteration 24000/24001: 0.2535037696361542\n",
      "loss at epoch 7/10, iteration 2000/24001: 0.34408262372016907\n",
      "loss at epoch 7/10, iteration 4000/24001: 0.39690935611724854\n",
      "loss at epoch 7/10, iteration 6000/24001: 0.27377673983573914\n",
      "loss at epoch 7/10, iteration 8000/24001: 0.27537718415260315\n",
      "loss at epoch 7/10, iteration 10000/24001: 0.3448253571987152\n",
      "loss at epoch 7/10, iteration 12000/24001: 0.5021427869796753\n",
      "loss at epoch 7/10, iteration 14000/24001: 0.3493076264858246\n",
      "loss at epoch 7/10, iteration 16000/24001: 0.35310253500938416\n",
      "loss at epoch 7/10, iteration 18000/24001: 1.6388546228408813\n",
      "loss at epoch 7/10, iteration 20000/24001: 0.40199723839759827\n",
      "loss at epoch 7/10, iteration 22000/24001: 0.5891009569168091\n",
      "loss at epoch 7/10, iteration 24000/24001: 0.22962062060832977\n",
      "loss at epoch 8/10, iteration 2000/24001: 0.30815014243125916\n",
      "loss at epoch 8/10, iteration 4000/24001: 0.4062844216823578\n",
      "loss at epoch 8/10, iteration 6000/24001: 0.6123249530792236\n",
      "loss at epoch 8/10, iteration 8000/24001: 0.45050570368766785\n",
      "loss at epoch 8/10, iteration 10000/24001: 0.21876665949821472\n",
      "loss at epoch 8/10, iteration 12000/24001: 1.103738784790039\n",
      "loss at epoch 8/10, iteration 14000/24001: 0.7257627248764038\n",
      "loss at epoch 8/10, iteration 16000/24001: 0.21961060166358948\n",
      "loss at epoch 8/10, iteration 18000/24001: 0.25330087542533875\n",
      "loss at epoch 8/10, iteration 20000/24001: 0.4475868344306946\n",
      "loss at epoch 8/10, iteration 22000/24001: 0.45540833473205566\n",
      "loss at epoch 8/10, iteration 24000/24001: 0.7284055352210999\n",
      "loss at epoch 9/10, iteration 2000/24001: 0.45204034447669983\n",
      "loss at epoch 9/10, iteration 4000/24001: 0.745445728302002\n",
      "loss at epoch 9/10, iteration 6000/24001: 0.26745226979255676\n",
      "loss at epoch 9/10, iteration 8000/24001: 0.5290461182594299\n",
      "loss at epoch 9/10, iteration 10000/24001: 0.19361093640327454\n",
      "loss at epoch 9/10, iteration 12000/24001: 0.9993768930435181\n",
      "loss at epoch 9/10, iteration 14000/24001: 0.285072922706604\n",
      "loss at epoch 9/10, iteration 16000/24001: 0.3805372416973114\n",
      "loss at epoch 9/10, iteration 18000/24001: 0.39615631103515625\n",
      "loss at epoch 9/10, iteration 20000/24001: 0.2847762703895569\n",
      "loss at epoch 9/10, iteration 22000/24001: 0.33179014921188354\n",
      "loss at epoch 9/10, iteration 24000/24001: 0.35828784108161926\n",
      "loss at epoch 10/10, iteration 2000/24001: 0.20888842642307281\n",
      "loss at epoch 10/10, iteration 4000/24001: 0.5659357905387878\n",
      "loss at epoch 10/10, iteration 6000/24001: 0.9590710997581482\n",
      "loss at epoch 10/10, iteration 8000/24001: 0.20447957515716553\n",
      "loss at epoch 10/10, iteration 10000/24001: 0.41485175490379333\n",
      "loss at epoch 10/10, iteration 12000/24001: 0.25318512320518494\n",
      "loss at epoch 10/10, iteration 14000/24001: 0.20338661968708038\n",
      "loss at epoch 10/10, iteration 16000/24001: 1.2828643321990967\n",
      "loss at epoch 10/10, iteration 18000/24001: 1.0669877529144287\n",
      "loss at epoch 10/10, iteration 20000/24001: 0.21354936063289642\n",
      "loss at epoch 10/10, iteration 22000/24001: 0.29671406745910645\n",
      "loss at epoch 10/10, iteration 24000/24001: 0.1884831041097641\n"
     ]
    }
   ],
   "source": [
    "# Training Loop\n",
    "n_total_steps = len(train)\n",
    "loss_history = []\n",
    "num_epochs = 10\n",
    "\n",
    "for epoch in range(num_epochs):\n",
    "    for i, (phrase, ip_image, op_image, _) in enumerate(train):\n",
    "        if ip_image[0].dim() != 3:\n",
    "            continue\n",
    "        \n",
    "        # Using CLIP to encode\n",
    "        encodings = encoder1(transforms.ToPILImage()(ip_image[0].permute(2, 0, 1)).convert(\"RGB\"), phrase[0])\n",
    "            \n",
    "        # Using a custom decoder\n",
    "        output = decoder1(encodings)\n",
    "        \n",
    "        loss = criterion(output[0][0], op_image[0])\n",
    "        \n",
    "        optimizer.zero_grad()\n",
    "        loss.backward()\n",
    "        optimizer.step()\n",
    "        \n",
    "        # Printing the loss at regular intervals\n",
    "        if (i+1) % 2000 == 0:\n",
    "            print(f\"loss at epoch {epoch+1}/{num_epochs}, iteration {i+1}/{n_total_steps}: {loss.item()}\")\n",
    "            loss_history.append(loss.item())\n",
    "\n",
    "    # Step the scheduler after each epoch\n",
    "    scheduler.step()"
   ]
  },
  {
   "cell_type": "markdown",
   "id": "ecfb048f",
   "metadata": {},
   "source": [
    "Saving the decoder weights"
   ]
  },
  {
   "cell_type": "code",
   "execution_count": 18,
   "id": "060eef7c",
   "metadata": {},
   "outputs": [],
   "source": [
    "# Saving the decoder weights\n",
    "torch.save(decoder1.state_dict(), \"decoder1_BCELoss.pth\")"
   ]
  },
  {
   "cell_type": "markdown",
   "id": "a372554b",
   "metadata": {},
   "source": [
    "Evaluating the model on Val set"
   ]
  },
  {
   "cell_type": "code",
   "execution_count": 39,
   "id": "8cada66c",
   "metadata": {},
   "outputs": [
    {
     "name": "stdout",
     "output_type": "stream",
     "text": [
      "accuracy pixel-by-pixel is - 89.51485443115234%\n",
      "accuracy by iou is - 10.485158920288086%\n",
      "accuracy by dice-scores is - 16.220623016357422%\n"
     ]
    }
   ],
   "source": [
    "# Calculating the accuracies based on pixel-by-pixel, iou and dice scores on the val set\n",
    "sigmoid = nn.Sigmoid()\n",
    "with torch.no_grad():\n",
    "    accuracy_pixel_by_pixel = []\n",
    "    accuracy_iou = []\n",
    "    accuracy_dice_score = []\n",
    "    \n",
    "    n_total_steps = len(val)\n",
    "    \n",
    "    for i, (pharase, ip_image, op_image, _) in enumerate(val):\n",
    "\n",
    "        encodings = encoder1(transforms.ToPILImage()(ip_image[0].permute(2, 0, 1)).convert(\"RGB\"), phrase[0])\n",
    "        output = decoder1(encodings)\n",
    "        accuracy_pixel_by_pixel.append(torch.sum((output[0][0]>0) == op_image[0])/(224*224))\n",
    "\n",
    "        output = sigmoid(output)\n",
    "        \n",
    "        intersection = torch.sum((output[0][0]>0)*op_image[0]) \n",
    "        union = torch.sum(output[0][0] > 0)+torch.sum(op_image[0]) - intersection\n",
    "        accuracy_iou.append(intersection/union)\n",
    "        \n",
    "        numerator = 2*torch.sum((output[0][0]>0)*op_image[0]) + 1e-6\n",
    "        denominator = torch.sum(op_image[0]**2) + torch.sum((output[0][0]>0)**2) + 1e-6\n",
    "        accuracy_dice_score.append(numerator/denominator)\n",
    "        \n",
    "    print(f\"accuracy pixel-by-pixel is - {100*sum(accuracy_pixel_by_pixel)/len(accuracy_pixel_by_pixel)}%\")\n",
    "    print(f\"accuracy by iou is - {100*sum(accuracy_iou)/len(accuracy_iou)}%\")\n",
    "    print(f\"accuracy by dice-scores is - {100*sum(accuracy_dice_score)/len(accuracy_dice_score)}%\")"
   ]
  },
  {
   "cell_type": "markdown",
   "id": "251944a0",
   "metadata": {},
   "source": [
    "Evaluating the model on test set"
   ]
  },
  {
   "cell_type": "code",
   "execution_count": 89,
   "id": "9f023962",
   "metadata": {},
   "outputs": [
    {
     "name": "stdout",
     "output_type": "stream",
     "text": [
      "accuracy by pixel-by-pixel is - 90.381027%\n",
      "accuracy by iou is - 9.618964%\n",
      "accuracy by dice-scores is - 15.002020%\n"
     ]
    }
   ],
   "source": [
    "# Calculating the accuracies based on pixel-by-pixel, iou and dice scores on the test set\n",
    "sigmoid = nn.Sigmoid()\n",
    "with torch.no_grad():\n",
    "    accuracy_pixel_by_pixel = []\n",
    "    accuracy_iou = []\n",
    "    accuracy_dice_score = []\n",
    "    \n",
    "    n_total_steps = len(test)\n",
    "    \n",
    "    for i, (pharase, ip_image, op_image, _) in enumerate(test):\n",
    "        encodings = encoder1(transforms.ToPILImage()(ip_image[0].permute(2, 0, 1)).convert(\"RGB\"), phrase[0])\n",
    "        output = decoder1(encodings)\n",
    "        accuracy_pixel_by_pixel.append(torch.sum((output[0][0]>0) == op_image[0])/(224*224))\n",
    "\n",
    "        output = sigmoid(output)\n",
    "        \n",
    "        intersection = torch.sum((output[0][0]>0)*op_image[0]) \n",
    "        union = torch.sum(output[0][0] > 0)+torch.sum(op_image[0]) - intersection\n",
    "        accuracy_iou.append(intersection/union)\n",
    "        \n",
    "        numerator = 2*torch.sum((output[0][0]>0)*op_image[0]) + 1e-6\n",
    "        denominator = torch.sum(op_image[0]**2) + torch.sum((output[0][0]>0)**2) + 1e-6\n",
    "        accuracy_dice_score.append(numerator/denominator)\n",
    "        \n",
    "    print(f\"accuracy by pixel-by-pixel is - {100*sum(accuracy_pixel_by_pixel)/len(accuracy_pixel_by_pixel) :.6f}%\")\n",
    "    print(f\"accuracy by iou is - {100*sum(accuracy_iou)/len(accuracy_iou) :.6f}%\")\n",
    "    print(f\"accuracy by dice-scores is - {100*sum(accuracy_dice_score)/len(accuracy_dice_score) :.6f}%\")"
   ]
  },
  {
   "cell_type": "markdown",
   "id": "42824641",
   "metadata": {},
   "source": [
    "Running it on a random image from val_data"
   ]
  },
  {
   "cell_type": "code",
   "execution_count": 87,
   "id": "f6edd57a",
   "metadata": {},
   "outputs": [
    {
     "name": "stdout",
     "output_type": "stream",
     "text": [
      "<class 'torch.Tensor'> torch.Size([224, 224]) tensor([0., 1.])\n"
     ]
    }
   ],
   "source": [
    "with torch.no_grad():\n",
    "    encodings = encoder1(Image.open(\"phrasecut_dataset\\VGPhraseCut_V0_sub_train+val\\\\val\\images\\\\2365666.jpg\"), \"sheep grazing field\")\n",
    "    output = decoder1(encodings)\n",
    "    output = sigmoid(output)\n",
    "    threshold = (output.max() + output.min())/2\n",
    "    output = (output >= threshold).float()\n",
    "    output = output[0][0]\n",
    "    print(type(output), output.size(), torch.unique(output))\n",
    "    img = transforms.ToPILImage()(output)\n",
    "    img.show()"
   ]
  },
  {
   "cell_type": "markdown",
   "id": "98d1b2a2",
   "metadata": {},
   "source": [
    "Plotting Loss History"
   ]
  },
  {
   "cell_type": "code",
   "execution_count": 20,
   "id": "8c2b1ceb",
   "metadata": {},
   "outputs": [
    {
     "data": {
      "image/png": "[encoded data removed]",
      "text/plain": [
       "<Figure size 640x480 with 1 Axes>"
      ]
     },
     "metadata": {},
     "output_type": "display_data"
    }
   ],
   "source": [
    "#Plot of loss history\n",
    "import matplotlib.pyplot as plt\n",
    "plt.plot(loss_history)\n",
    "plt.xlabel('Time')\n",
    "plt.ylabel('Loss')\n",
    "plt.show()"
   ]
  },
  {
   "cell_type": "markdown",
   "id": "af5cc866",
   "metadata": {},
   "source": [
    "2. Using DICE Loss"
   ]
  },
  {
   "cell_type": "markdown",
   "id": "3846d75c",
   "metadata": {},
   "source": [
    "Encoder using CLIP model"
   ]
  },
  {
   "cell_type": "code",
   "execution_count": 7,
   "id": "568f48bd",
   "metadata": {},
   "outputs": [
    {
     "name": "stderr",
     "output_type": "stream",
     "text": [
      "Some weights of the model checkpoint at openai/clip-vit-base-patch32 were not used when initializing CLIPTextModel: ['vision_model.encoder.layers.6.self_attn.v_proj.bias', 'vision_model.encoder.layers.11.self_attn.v_proj.bias', 'vision_model.encoder.layers.1.mlp.fc2.bias', 'vision_model.encoder.layers.0.mlp.fc2.weight', 'text_projection.weight', 'vision_model.encoder.layers.1.self_attn.v_proj.bias', 'vision_model.encoder.layers.3.self_attn.q_proj.bias', 'vision_model.encoder.layers.5.self_attn.v_proj.bias', 'vision_model.post_layernorm.bias', 'vision_model.encoder.layers.5.self_attn.q_proj.weight', 'vision_model.encoder.layers.2.layer_norm2.weight', 'vision_model.encoder.layers.0.self_attn.k_proj.bias', 'vision_model.encoder.layers.5.self_attn.k_proj.bias', 'vision_model.encoder.layers.2.mlp.fc1.bias', 'vision_model.encoder.layers.3.layer_norm2.bias', 'vision_model.embeddings.class_embedding', 'vision_model.encoder.layers.1.self_attn.out_proj.bias', 'vision_model.encoder.layers.4.self_attn.v_proj.weight', 'vision_model.encoder.layers.4.self_attn.out_proj.weight', 'vision_model.encoder.layers.0.layer_norm2.weight', 'vision_model.encoder.layers.8.self_attn.k_proj.weight', 'vision_model.encoder.layers.11.mlp.fc2.weight', 'vision_model.encoder.layers.6.self_attn.q_proj.weight', 'vision_model.encoder.layers.7.mlp.fc2.weight', 'vision_model.encoder.layers.5.mlp.fc2.bias', 'vision_model.encoder.layers.8.self_attn.q_proj.weight', 'vision_model.encoder.layers.6.layer_norm1.weight', 'vision_model.embeddings.patch_embedding.weight', 'vision_model.encoder.layers.9.self_attn.out_proj.weight', 'vision_model.encoder.layers.1.self_attn.out_proj.weight', 'vision_model.embeddings.position_embedding.weight', 'vision_model.encoder.layers.11.self_attn.k_proj.weight', 'vision_model.encoder.layers.1.layer_norm2.bias', 'vision_model.encoder.layers.0.self_attn.q_proj.bias', 'vision_model.encoder.layers.4.self_attn.v_proj.bias', 'vision_model.encoder.layers.9.mlp.fc1.bias', 'vision_model.encoder.layers.8.layer_norm1.bias', 'vision_model.encoder.layers.0.self_attn.v_proj.weight', 'vision_model.encoder.layers.10.self_attn.out_proj.bias', 'vision_model.encoder.layers.4.self_attn.q_proj.bias', 'vision_model.encoder.layers.8.layer_norm2.bias', 'vision_model.encoder.layers.11.layer_norm1.weight', 'vision_model.encoder.layers.3.self_attn.k_proj.weight', 'vision_model.encoder.layers.6.self_attn.out_proj.weight', 'vision_model.encoder.layers.2.layer_norm1.weight', 'vision_model.encoder.layers.10.layer_norm1.bias', 'vision_model.embeddings.position_ids', 'vision_model.encoder.layers.4.layer_norm1.weight', 'vision_model.post_layernorm.weight', 'vision_model.encoder.layers.3.self_attn.q_proj.weight', 'vision_model.encoder.layers.0.self_attn.out_proj.bias', 'vision_model.encoder.layers.2.mlp.fc1.weight', 'vision_model.encoder.layers.4.self_attn.q_proj.weight', 'vision_model.encoder.layers.9.self_attn.v_proj.bias', 'vision_model.encoder.layers.11.self_attn.v_proj.weight', 'vision_model.encoder.layers.11.mlp.fc1.weight', 'vision_model.encoder.layers.7.layer_norm2.bias', 'vision_model.encoder.layers.2.self_attn.out_proj.weight', 'vision_model.encoder.layers.2.self_attn.v_proj.bias', 'vision_model.encoder.layers.9.mlp.fc2.bias', 'vision_model.encoder.layers.9.mlp.fc2.weight', 'vision_model.encoder.layers.0.self_attn.out_proj.weight', 'vision_model.encoder.layers.4.layer_norm2.bias', 'vision_model.encoder.layers.8.layer_norm2.weight', 'vision_model.encoder.layers.3.mlp.fc2.bias', 'vision_model.encoder.layers.6.self_attn.out_proj.bias', 'vision_model.encoder.layers.3.self_attn.v_proj.bias', 'vision_model.encoder.layers.4.mlp.fc1.bias', 'vision_model.encoder.layers.7.self_attn.k_proj.weight', 'vision_model.encoder.layers.8.layer_norm1.weight', 'vision_model.encoder.layers.0.self_attn.v_proj.bias', 'vision_model.encoder.layers.5.self_attn.q_proj.bias', 'vision_model.encoder.layers.8.mlp.fc1.weight', 'vision_model.encoder.layers.5.mlp.fc1.weight', 'vision_model.encoder.layers.1.mlp.fc1.weight', 'vision_model.encoder.layers.4.layer_norm1.bias', 'vision_model.encoder.layers.2.mlp.fc2.bias', 'vision_model.encoder.layers.9.self_attn.k_proj.weight', 'vision_model.encoder.layers.3.mlp.fc1.weight', 'vision_model.encoder.layers.10.layer_norm1.weight', 'vision_model.encoder.layers.3.layer_norm1.bias', 'vision_model.encoder.layers.11.layer_norm2.bias', 'vision_model.pre_layrnorm.bias', 'vision_model.encoder.layers.10.layer_norm2.weight', 'vision_model.encoder.layers.10.mlp.fc2.weight', 'vision_model.encoder.layers.8.mlp.fc2.bias', 'vision_model.encoder.layers.9.layer_norm1.weight', 'vision_model.encoder.layers.10.self_attn.q_proj.weight', 'vision_model.encoder.layers.4.layer_norm2.weight', 'vision_model.encoder.layers.11.self_attn.k_proj.bias', 'vision_model.encoder.layers.0.mlp.fc2.bias', 'vision_model.encoder.layers.6.mlp.fc1.weight', 'vision_model.encoder.layers.2.self_attn.v_proj.weight', 'vision_model.encoder.layers.7.mlp.fc2.bias', 'vision_model.encoder.layers.7.mlp.fc1.bias', 'vision_model.encoder.layers.10.mlp.fc1.bias', 'vision_model.encoder.layers.11.layer_norm2.weight', 'vision_model.encoder.layers.10.layer_norm2.bias', 'vision_model.encoder.layers.7.self_attn.q_proj.bias', 'vision_model.encoder.layers.1.self_attn.k_proj.weight', 'vision_model.encoder.layers.9.self_attn.q_proj.bias', 'vision_model.encoder.layers.3.self_attn.out_proj.weight', 'vision_model.encoder.layers.1.self_attn.v_proj.weight', 'vision_model.encoder.layers.1.self_attn.k_proj.bias', 'vision_model.encoder.layers.8.self_attn.out_proj.bias', 'vision_model.encoder.layers.1.mlp.fc2.weight', 'vision_model.encoder.layers.7.layer_norm1.bias', 'vision_model.encoder.layers.0.mlp.fc1.weight', 'vision_model.encoder.layers.8.mlp.fc2.weight', 'vision_model.encoder.layers.0.layer_norm1.weight', 'vision_model.encoder.layers.9.self_attn.out_proj.bias', 'vision_model.encoder.layers.9.self_attn.v_proj.weight', 'vision_model.encoder.layers.6.mlp.fc2.bias', 'vision_model.encoder.layers.6.self_attn.v_proj.weight', 'vision_model.encoder.layers.5.self_attn.out_proj.weight', 'vision_model.encoder.layers.7.layer_norm2.weight', 'vision_model.encoder.layers.6.self_attn.k_proj.bias', 'vision_model.encoder.layers.0.layer_norm1.bias', 'vision_model.encoder.layers.0.layer_norm2.bias', 'vision_model.encoder.layers.8.self_attn.v_proj.bias', 'vision_model.encoder.layers.11.mlp.fc2.bias', 'vision_model.encoder.layers.6.mlp.fc2.weight', 'visual_projection.weight', 'vision_model.encoder.layers.11.self_attn.q_proj.bias', 'vision_model.encoder.layers.10.self_attn.v_proj.bias', 'vision_model.encoder.layers.9.layer_norm2.bias', 'vision_model.encoder.layers.5.layer_norm1.weight', 'vision_model.encoder.layers.10.self_attn.k_proj.weight', 'vision_model.encoder.layers.3.self_attn.v_proj.weight', 'vision_model.encoder.layers.8.self_attn.out_proj.weight', 'vision_model.encoder.layers.1.self_attn.q_proj.weight', 'vision_model.encoder.layers.10.self_attn.v_proj.weight', 'vision_model.encoder.layers.3.mlp.fc1.bias', 'vision_model.encoder.layers.7.self_attn.v_proj.weight', 'vision_model.encoder.layers.5.layer_norm2.weight', 'vision_model.encoder.layers.6.self_attn.k_proj.weight', 'vision_model.encoder.layers.11.self_attn.q_proj.weight', 'vision_model.encoder.layers.3.mlp.fc2.weight', 'vision_model.encoder.layers.5.mlp.fc1.bias', 'vision_model.encoder.layers.3.self_attn.out_proj.bias', 'vision_model.encoder.layers.6.layer_norm1.bias', 'vision_model.encoder.layers.7.self_attn.out_proj.weight', 'vision_model.encoder.layers.1.layer_norm2.weight', 'vision_model.encoder.layers.4.mlp.fc2.bias', 'vision_model.encoder.layers.4.self_attn.k_proj.bias', 'vision_model.encoder.layers.4.mlp.fc2.weight', 'vision_model.encoder.layers.7.layer_norm1.weight', 'vision_model.encoder.layers.11.layer_norm1.bias', 'vision_model.encoder.layers.1.layer_norm1.bias', 'vision_model.encoder.layers.5.mlp.fc2.weight', 'vision_model.encoder.layers.11.mlp.fc1.bias', 'vision_model.encoder.layers.10.mlp.fc1.weight', 'vision_model.encoder.layers.11.self_attn.out_proj.weight', 'vision_model.encoder.layers.6.layer_norm2.bias', 'vision_model.encoder.layers.1.layer_norm1.weight', 'logit_scale', 'vision_model.encoder.layers.8.self_attn.v_proj.weight', 'vision_model.encoder.layers.9.mlp.fc1.weight', 'vision_model.encoder.layers.6.mlp.fc1.bias', 'vision_model.encoder.layers.2.self_attn.k_proj.weight', 'vision_model.encoder.layers.9.layer_norm2.weight', 'vision_model.encoder.layers.4.mlp.fc1.weight', 'vision_model.encoder.layers.3.layer_norm1.weight', 'vision_model.encoder.layers.6.self_attn.q_proj.bias', 'vision_model.encoder.layers.0.mlp.fc1.bias', 'vision_model.encoder.layers.2.self_attn.out_proj.bias', 'vision_model.encoder.layers.9.layer_norm1.bias', 'vision_model.encoder.layers.7.self_attn.out_proj.bias', 'vision_model.encoder.layers.8.mlp.fc1.bias', 'vision_model.encoder.layers.5.self_attn.v_proj.weight', 'vision_model.encoder.layers.0.self_attn.q_proj.weight', 'vision_model.encoder.layers.4.self_attn.out_proj.bias', 'vision_model.encoder.layers.11.self_attn.out_proj.bias', 'vision_model.encoder.layers.2.layer_norm2.bias', 'vision_model.encoder.layers.3.layer_norm2.weight', 'vision_model.encoder.layers.2.self_attn.q_proj.bias', 'vision_model.encoder.layers.2.self_attn.q_proj.weight', 'vision_model.encoder.layers.2.layer_norm1.bias', 'vision_model.encoder.layers.9.self_attn.k_proj.bias', 'vision_model.encoder.layers.3.self_attn.k_proj.bias', 'vision_model.encoder.layers.7.mlp.fc1.weight', 'vision_model.encoder.layers.8.self_attn.k_proj.bias', 'vision_model.encoder.layers.2.mlp.fc2.weight', 'vision_model.encoder.layers.6.layer_norm2.weight', 'vision_model.encoder.layers.0.self_attn.k_proj.weight', 'vision_model.encoder.layers.5.layer_norm1.bias', 'vision_model.encoder.layers.7.self_attn.q_proj.weight', 'vision_model.encoder.layers.5.self_attn.out_proj.bias', 'vision_model.encoder.layers.5.self_attn.k_proj.weight', 'vision_model.pre_layrnorm.weight', 'vision_model.encoder.layers.1.mlp.fc1.bias', 'vision_model.encoder.layers.9.self_attn.q_proj.weight', 'vision_model.encoder.layers.5.layer_norm2.bias', 'vision_model.encoder.layers.7.self_attn.k_proj.bias', 'vision_model.encoder.layers.8.self_attn.q_proj.bias', 'vision_model.encoder.layers.10.self_attn.q_proj.bias', 'vision_model.encoder.layers.1.self_attn.q_proj.bias', 'vision_model.encoder.layers.2.self_attn.k_proj.bias', 'vision_model.encoder.layers.10.mlp.fc2.bias', 'vision_model.encoder.layers.10.self_attn.k_proj.bias', 'vision_model.encoder.layers.7.self_attn.v_proj.bias', 'vision_model.encoder.layers.10.self_attn.out_proj.weight', 'vision_model.encoder.layers.4.self_attn.k_proj.weight']\n",
      "- This IS expected if you are initializing CLIPTextModel from the checkpoint of a model trained on another task or with another architecture (e.g. initializing a BertForSequenceClassification model from a BertForPreTraining model).\n",
      "- This IS NOT expected if you are initializing CLIPTextModel from the checkpoint of a model that you expect to be exactly identical (initializing a BertForSequenceClassification model from a BertForSequenceClassification model).\n",
      "Some weights of the model checkpoint at openai/clip-vit-base-patch32 were not used when initializing CLIPVisionModelWithProjection: ['text_projection.weight', 'text_model.encoder.layers.6.mlp.fc1.bias', 'text_model.encoder.layers.3.self_attn.k_proj.weight', 'text_model.encoder.layers.5.self_attn.k_proj.weight', 'text_model.encoder.layers.2.layer_norm1.bias', 'text_model.encoder.layers.3.layer_norm1.bias', 'text_model.encoder.layers.11.self_attn.out_proj.bias', 'text_model.encoder.layers.6.self_attn.k_proj.weight', 'text_model.encoder.layers.8.self_attn.q_proj.weight', 'text_model.encoder.layers.4.mlp.fc2.weight', 'text_model.encoder.layers.4.self_attn.q_proj.bias', 'text_model.encoder.layers.1.self_attn.q_proj.weight', 'text_model.encoder.layers.7.self_attn.q_proj.weight', 'text_model.encoder.layers.0.self_attn.q_proj.bias', 'text_model.encoder.layers.2.layer_norm2.bias', 'text_model.encoder.layers.3.mlp.fc1.weight', 'text_model.encoder.layers.1.self_attn.k_proj.bias', 'text_model.encoder.layers.2.self_attn.out_proj.weight', 'text_model.encoder.layers.4.mlp.fc2.bias', 'text_model.encoder.layers.9.self_attn.q_proj.bias', 'text_model.encoder.layers.6.self_attn.q_proj.bias', 'text_model.encoder.layers.8.self_attn.out_proj.bias', 'text_model.encoder.layers.0.mlp.fc1.bias', 'text_model.encoder.layers.0.layer_norm2.weight', 'text_model.encoder.layers.1.layer_norm2.weight', 'text_model.encoder.layers.1.self_attn.out_proj.weight', 'text_model.encoder.layers.0.self_attn.q_proj.weight', 'text_model.encoder.layers.5.self_attn.v_proj.bias', 'text_model.encoder.layers.8.self_attn.k_proj.bias', 'text_model.encoder.layers.10.layer_norm2.weight', 'text_model.encoder.layers.2.layer_norm2.weight', 'text_model.encoder.layers.8.mlp.fc1.weight', 'text_model.encoder.layers.8.self_attn.out_proj.weight', 'text_model.encoder.layers.2.mlp.fc2.bias', 'text_model.encoder.layers.6.self_attn.out_proj.bias', 'text_model.encoder.layers.1.self_attn.q_proj.bias', 'text_model.encoder.layers.3.layer_norm2.bias', 'text_model.encoder.layers.0.mlp.fc2.weight', 'text_model.encoder.layers.0.self_attn.v_proj.bias', 'text_model.encoder.layers.8.self_attn.q_proj.bias', 'text_model.encoder.layers.6.layer_norm2.weight', 'text_model.encoder.layers.7.layer_norm2.weight', 'text_model.encoder.layers.4.self_attn.out_proj.weight', 'text_model.encoder.layers.7.mlp.fc1.bias', 'text_model.encoder.layers.10.self_attn.k_proj.bias', 'text_model.encoder.layers.0.self_attn.v_proj.weight', 'text_model.encoder.layers.2.self_attn.q_proj.weight', 'text_model.encoder.layers.10.mlp.fc1.weight', 'text_model.encoder.layers.6.layer_norm2.bias', 'text_model.encoder.layers.6.self_attn.out_proj.weight', 'text_model.encoder.layers.8.mlp.fc2.bias', 'text_model.encoder.layers.3.mlp.fc1.bias', 'text_model.encoder.layers.5.self_attn.k_proj.bias', 'text_model.encoder.layers.3.layer_norm2.weight', 'text_model.encoder.layers.11.self_attn.q_proj.bias', 'text_model.encoder.layers.9.mlp.fc2.bias', 'text_model.encoder.layers.5.layer_norm2.weight', 'text_model.encoder.layers.8.layer_norm2.bias', 'text_model.encoder.layers.0.layer_norm1.weight', 'text_model.encoder.layers.10.layer_norm1.weight', 'text_model.encoder.layers.3.layer_norm1.weight', 'text_model.encoder.layers.10.self_attn.q_proj.weight', 'text_model.encoder.layers.1.self_attn.out_proj.bias', 'text_model.encoder.layers.5.layer_norm2.bias', 'text_model.encoder.layers.9.layer_norm1.weight', 'text_model.encoder.layers.8.mlp.fc1.bias', 'text_model.encoder.layers.11.self_attn.v_proj.weight', 'text_model.encoder.layers.9.self_attn.v_proj.weight', 'text_model.encoder.layers.11.layer_norm2.bias', 'text_model.encoder.layers.11.layer_norm2.weight', 'text_model.encoder.layers.11.layer_norm1.bias', 'text_model.encoder.layers.10.mlp.fc2.bias', 'text_model.encoder.layers.9.mlp.fc2.weight', 'text_model.encoder.layers.9.self_attn.q_proj.weight', 'text_model.encoder.layers.9.mlp.fc1.bias', 'text_model.encoder.layers.2.self_attn.k_proj.bias', 'text_model.encoder.layers.9.mlp.fc1.weight', 'text_model.encoder.layers.3.self_attn.v_proj.bias', 'text_model.encoder.layers.11.mlp.fc1.weight', 'text_model.encoder.layers.9.self_attn.out_proj.weight', 'text_model.encoder.layers.1.mlp.fc1.bias', 'text_model.encoder.layers.7.self_attn.k_proj.weight', 'text_model.encoder.layers.3.self_attn.q_proj.bias', 'text_model.encoder.layers.0.mlp.fc2.bias', 'text_model.encoder.layers.6.mlp.fc2.bias', 'text_model.encoder.layers.6.self_attn.v_proj.bias', 'text_model.encoder.layers.11.self_attn.v_proj.bias', 'text_model.encoder.layers.10.layer_norm2.bias', 'text_model.encoder.layers.4.layer_norm2.weight', 'text_model.encoder.layers.2.self_attn.out_proj.bias', 'text_model.encoder.layers.3.self_attn.v_proj.weight', 'text_model.embeddings.position_embedding.weight', 'text_model.encoder.layers.6.self_attn.v_proj.weight', 'text_model.encoder.layers.4.self_attn.v_proj.bias', 'text_model.encoder.layers.7.self_attn.out_proj.bias', 'text_model.final_layer_norm.weight', 'text_model.encoder.layers.4.mlp.fc1.bias', 'text_model.encoder.layers.2.self_attn.q_proj.bias', 'text_model.encoder.layers.1.mlp.fc1.weight', 'text_model.encoder.layers.0.self_attn.k_proj.bias', 'text_model.encoder.layers.7.mlp.fc2.weight', 'text_model.encoder.layers.2.mlp.fc1.weight', 'text_model.encoder.layers.10.self_attn.out_proj.bias', 'text_model.encoder.layers.4.layer_norm2.bias', 'text_model.encoder.layers.8.layer_norm1.bias', 'text_model.encoder.layers.9.layer_norm2.bias', 'text_model.encoder.layers.7.self_attn.v_proj.bias', 'text_model.encoder.layers.6.layer_norm1.weight', 'text_model.encoder.layers.6.mlp.fc1.weight', 'text_model.encoder.layers.6.layer_norm1.bias', 'text_model.encoder.layers.9.layer_norm1.bias', 'text_model.encoder.layers.8.layer_norm2.weight', 'text_model.encoder.layers.11.layer_norm1.weight', 'text_model.encoder.layers.5.self_attn.v_proj.weight', 'text_model.encoder.layers.11.mlp.fc2.bias', 'text_model.encoder.layers.9.layer_norm2.weight', 'text_model.encoder.layers.7.layer_norm2.bias', 'text_model.encoder.layers.7.layer_norm1.bias', 'text_model.encoder.layers.0.layer_norm2.bias', 'text_model.encoder.layers.10.layer_norm1.bias', 'text_model.encoder.layers.7.self_attn.out_proj.weight', 'text_model.encoder.layers.3.self_attn.out_proj.bias', 'text_model.encoder.layers.6.self_attn.q_proj.weight', 'text_model.encoder.layers.10.self_attn.q_proj.bias', 'text_model.encoder.layers.5.mlp.fc2.weight', 'text_model.encoder.layers.11.self_attn.k_proj.bias', 'text_model.encoder.layers.4.self_attn.k_proj.weight', 'text_model.encoder.layers.5.self_attn.out_proj.bias', 'text_model.encoder.layers.7.mlp.fc1.weight', 'text_model.encoder.layers.8.self_attn.k_proj.weight', 'text_model.encoder.layers.0.self_attn.out_proj.weight', 'text_model.encoder.layers.7.layer_norm1.weight', 'text_model.encoder.layers.2.self_attn.v_proj.bias', 'text_model.encoder.layers.0.self_attn.k_proj.weight', 'text_model.encoder.layers.0.self_attn.out_proj.bias', 'text_model.encoder.layers.5.mlp.fc1.weight', 'text_model.encoder.layers.1.mlp.fc2.bias', 'text_model.encoder.layers.5.layer_norm1.weight', 'text_model.encoder.layers.4.self_attn.v_proj.weight', 'text_model.encoder.layers.10.mlp.fc2.weight', 'text_model.encoder.layers.1.self_attn.v_proj.weight', 'text_model.encoder.layers.2.self_attn.v_proj.weight', 'text_model.encoder.layers.7.self_attn.v_proj.weight', 'text_model.encoder.layers.4.self_attn.q_proj.weight', 'text_model.encoder.layers.1.mlp.fc2.weight', 'text_model.encoder.layers.2.mlp.fc1.bias', 'text_model.encoder.layers.10.self_attn.v_proj.weight', 'text_model.encoder.layers.2.layer_norm1.weight', 'text_model.encoder.layers.1.layer_norm1.weight', 'text_model.encoder.layers.6.self_attn.k_proj.bias', 'text_model.encoder.layers.8.self_attn.v_proj.weight', 'text_model.encoder.layers.4.layer_norm1.weight', 'text_model.final_layer_norm.bias', 'text_model.encoder.layers.1.layer_norm1.bias', 'text_model.encoder.layers.9.self_attn.out_proj.bias', 'text_model.encoder.layers.10.mlp.fc1.bias', 'text_model.encoder.layers.11.self_attn.out_proj.weight', 'text_model.encoder.layers.4.mlp.fc1.weight', 'text_model.encoder.layers.5.mlp.fc1.bias', 'text_model.encoder.layers.3.self_attn.k_proj.bias', 'text_model.encoder.layers.0.mlp.fc1.weight', 'logit_scale', 'text_model.encoder.layers.5.layer_norm1.bias', 'text_model.encoder.layers.8.self_attn.v_proj.bias', 'text_model.encoder.layers.7.mlp.fc2.bias', 'text_model.encoder.layers.5.mlp.fc2.bias', 'text_model.encoder.layers.5.self_attn.out_proj.weight', 'text_model.encoder.layers.8.layer_norm1.weight', 'text_model.encoder.layers.1.layer_norm2.bias', 'text_model.encoder.layers.6.mlp.fc2.weight', 'text_model.embeddings.position_ids', 'text_model.encoder.layers.5.self_attn.q_proj.weight', 'text_model.encoder.layers.11.self_attn.q_proj.weight', 'text_model.encoder.layers.9.self_attn.k_proj.bias', 'text_model.encoder.layers.10.self_attn.k_proj.weight', 'text_model.encoder.layers.7.self_attn.q_proj.bias', 'text_model.embeddings.token_embedding.weight', 'text_model.encoder.layers.10.self_attn.out_proj.weight', 'text_model.encoder.layers.4.self_attn.out_proj.bias', 'text_model.encoder.layers.0.layer_norm1.bias', 'text_model.encoder.layers.2.mlp.fc2.weight', 'text_model.encoder.layers.3.mlp.fc2.weight', 'text_model.encoder.layers.11.mlp.fc1.bias', 'text_model.encoder.layers.11.mlp.fc2.weight', 'text_model.encoder.layers.3.self_attn.q_proj.weight', 'text_model.encoder.layers.9.self_attn.v_proj.bias', 'text_model.encoder.layers.8.mlp.fc2.weight', 'text_model.encoder.layers.1.self_attn.v_proj.bias', 'text_model.encoder.layers.4.layer_norm1.bias', 'text_model.encoder.layers.2.self_attn.k_proj.weight', 'text_model.encoder.layers.3.mlp.fc2.bias', 'text_model.encoder.layers.11.self_attn.k_proj.weight', 'text_model.encoder.layers.4.self_attn.k_proj.bias', 'text_model.encoder.layers.3.self_attn.out_proj.weight', 'text_model.encoder.layers.7.self_attn.k_proj.bias', 'text_model.encoder.layers.1.self_attn.k_proj.weight', 'text_model.encoder.layers.10.self_attn.v_proj.bias', 'text_model.encoder.layers.5.self_attn.q_proj.bias', 'text_model.encoder.layers.9.self_attn.k_proj.weight']\n",
      "- This IS expected if you are initializing CLIPVisionModelWithProjection from the checkpoint of a model trained on another task or with another architecture (e.g. initializing a BertForSequenceClassification model from a BertForPreTraining model).\n",
      "- This IS NOT expected if you are initializing CLIPVisionModelWithProjection from the checkpoint of a model that you expect to be exactly identical (initializing a BertForSequenceClassification model from a BertForSequenceClassification model).\n"
     ]
    }
   ],
   "source": [
    "from encoder_model import Encoder\n",
    "encoder2 = Encoder()"
   ]
  },
  {
   "cell_type": "code",
   "execution_count": 8,
   "id": "a0784175",
   "metadata": {},
   "outputs": [
    {
     "name": "stdout",
     "output_type": "stream",
     "text": [
      "Encoder(\n",
      "  (model): CLIPModel(\n",
      "    (text_model): CLIPTextTransformer(\n",
      "      (embeddings): CLIPTextEmbeddings(\n",
      "        (token_embedding): Embedding(49408, 512)\n",
      "        (position_embedding): Embedding(77, 512)\n",
      "      )\n",
      "      (encoder): CLIPEncoder(\n",
      "        (layers): ModuleList(\n",
      "          (0-11): 12 x CLIPEncoderLayer(\n",
      "            (self_attn): CLIPAttention(\n",
      "              (k_proj): Linear(in_features=512, out_features=512, bias=True)\n",
      "              (v_proj): Linear(in_features=512, out_features=512, bias=True)\n",
      "              (q_proj): Linear(in_features=512, out_features=512, bias=True)\n",
      "              (out_proj): Linear(in_features=512, out_features=512, bias=True)\n",
      "            )\n",
      "            (layer_norm1): LayerNorm((512,), eps=1e-05, elementwise_affine=True)\n",
      "            (mlp): CLIPMLP(\n",
      "              (activation_fn): QuickGELUActivation()\n",
      "              (fc1): Linear(in_features=512, out_features=2048, bias=True)\n",
      "              (fc2): Linear(in_features=2048, out_features=512, bias=True)\n",
      "            )\n",
      "            (layer_norm2): LayerNorm((512,), eps=1e-05, elementwise_affine=True)\n",
      "          )\n",
      "        )\n",
      "      )\n",
      "      (final_layer_norm): LayerNorm((512,), eps=1e-05, elementwise_affine=True)\n",
      "    )\n",
      "    (vision_model): CLIPVisionTransformer(\n",
      "      (embeddings): CLIPVisionEmbeddings(\n",
      "        (patch_embedding): Conv2d(3, 768, kernel_size=(32, 32), stride=(32, 32), bias=False)\n",
      "        (position_embedding): Embedding(50, 768)\n",
      "      )\n",
      "      (pre_layrnorm): LayerNorm((768,), eps=1e-05, elementwise_affine=True)\n",
      "      (encoder): CLIPEncoder(\n",
      "        (layers): ModuleList(\n",
      "          (0-11): 12 x CLIPEncoderLayer(\n",
      "            (self_attn): CLIPAttention(\n",
      "              (k_proj): Linear(in_features=768, out_features=768, bias=True)\n",
      "              (v_proj): Linear(in_features=768, out_features=768, bias=True)\n",
      "              (q_proj): Linear(in_features=768, out_features=768, bias=True)\n",
      "              (out_proj): Linear(in_features=768, out_features=768, bias=True)\n",
      "            )\n",
      "            (layer_norm1): LayerNorm((768,), eps=1e-05, elementwise_affine=True)\n",
      "            (mlp): CLIPMLP(\n",
      "              (activation_fn): QuickGELUActivation()\n",
      "              (fc1): Linear(in_features=768, out_features=3072, bias=True)\n",
      "              (fc2): Linear(in_features=3072, out_features=768, bias=True)\n",
      "            )\n",
      "            (layer_norm2): LayerNorm((768,), eps=1e-05, elementwise_affine=True)\n",
      "          )\n",
      "        )\n",
      "      )\n",
      "      (post_layernorm): LayerNorm((768,), eps=1e-05, elementwise_affine=True)\n",
      "    )\n",
      "    (visual_projection): Linear(in_features=768, out_features=512, bias=False)\n",
      "    (text_projection): Linear(in_features=512, out_features=512, bias=False)\n",
      "  )\n",
      "  (text_encoder): CLIPTextModel(\n",
      "    (text_model): CLIPTextTransformer(\n",
      "      (embeddings): CLIPTextEmbeddings(\n",
      "        (token_embedding): Embedding(49408, 512)\n",
      "        (position_embedding): Embedding(77, 512)\n",
      "      )\n",
      "      (encoder): CLIPEncoder(\n",
      "        (layers): ModuleList(\n",
      "          (0-11): 12 x CLIPEncoderLayer(\n",
      "            (self_attn): CLIPAttention(\n",
      "              (k_proj): Linear(in_features=512, out_features=512, bias=True)\n",
      "              (v_proj): Linear(in_features=512, out_features=512, bias=True)\n",
      "              (q_proj): Linear(in_features=512, out_features=512, bias=True)\n",
      "              (out_proj): Linear(in_features=512, out_features=512, bias=True)\n",
      "            )\n",
      "            (layer_norm1): LayerNorm((512,), eps=1e-05, elementwise_affine=True)\n",
      "            (mlp): CLIPMLP(\n",
      "              (activation_fn): QuickGELUActivation()\n",
      "              (fc1): Linear(in_features=512, out_features=2048, bias=True)\n",
      "              (fc2): Linear(in_features=2048, out_features=512, bias=True)\n",
      "            )\n",
      "            (layer_norm2): LayerNorm((512,), eps=1e-05, elementwise_affine=True)\n",
      "          )\n",
      "        )\n",
      "      )\n",
      "      (final_layer_norm): LayerNorm((512,), eps=1e-05, elementwise_affine=True)\n",
      "    )\n",
      "  )\n",
      "  (image_encoder): CLIPVisionModelWithProjection(\n",
      "    (vision_model): CLIPVisionTransformer(\n",
      "      (embeddings): CLIPVisionEmbeddings(\n",
      "        (patch_embedding): Conv2d(3, 768, kernel_size=(32, 32), stride=(32, 32), bias=False)\n",
      "        (position_embedding): Embedding(50, 768)\n",
      "      )\n",
      "      (pre_layrnorm): LayerNorm((768,), eps=1e-05, elementwise_affine=True)\n",
      "      (encoder): CLIPEncoder(\n",
      "        (layers): ModuleList(\n",
      "          (0-11): 12 x CLIPEncoderLayer(\n",
      "            (self_attn): CLIPAttention(\n",
      "              (k_proj): Linear(in_features=768, out_features=768, bias=True)\n",
      "              (v_proj): Linear(in_features=768, out_features=768, bias=True)\n",
      "              (q_proj): Linear(in_features=768, out_features=768, bias=True)\n",
      "              (out_proj): Linear(in_features=768, out_features=768, bias=True)\n",
      "            )\n",
      "            (layer_norm1): LayerNorm((768,), eps=1e-05, elementwise_affine=True)\n",
      "            (mlp): CLIPMLP(\n",
      "              (activation_fn): QuickGELUActivation()\n",
      "              (fc1): Linear(in_features=768, out_features=3072, bias=True)\n",
      "              (fc2): Linear(in_features=3072, out_features=768, bias=True)\n",
      "            )\n",
      "            (layer_norm2): LayerNorm((768,), eps=1e-05, elementwise_affine=True)\n",
      "          )\n",
      "        )\n",
      "      )\n",
      "      (post_layernorm): LayerNorm((768,), eps=1e-05, elementwise_affine=True)\n",
      "    )\n",
      "    (visual_projection): Linear(in_features=768, out_features=512, bias=False)\n",
      "  )\n",
      ")\n"
     ]
    }
   ],
   "source": [
    "print(encoder2)"
   ]
  },
  {
   "cell_type": "code",
   "execution_count": 9,
   "id": "7739fc72",
   "metadata": {},
   "outputs": [
    {
     "name": "stdout",
     "output_type": "stream",
     "text": [
      "No of trainable parameters in the encoder - 0\n"
     ]
    }
   ],
   "source": [
    "num_e = sum(e.numel() for e in encoder2.parameters() if e.requires_grad)\n",
    "print(\"No of trainable parameters in the encoder -\", num_e)"
   ]
  },
  {
   "cell_type": "markdown",
   "id": "6c6253fb",
   "metadata": {},
   "source": [
    "Creating custom Decoder"
   ]
  },
  {
   "cell_type": "code",
   "execution_count": 10,
   "id": "e89f11b6",
   "metadata": {},
   "outputs": [],
   "source": [
    "from decoder_model import Decoder\n",
    "\n",
    "decoder2 = Decoder()"
   ]
  },
  {
   "cell_type": "code",
   "execution_count": 11,
   "id": "df6fabb8",
   "metadata": {},
   "outputs": [
    {
     "name": "stdout",
     "output_type": "stream",
     "text": [
      "Decoder(\n",
      "  (film_mul): Linear(in_features=512, out_features=128, bias=True)\n",
      "  (film_add): Linear(in_features=512, out_features=128, bias=True)\n",
      "  (reduce_blocks): ModuleList(\n",
      "    (0-3): 4 x Linear(in_features=768, out_features=128, bias=True)\n",
      "  )\n",
      "  (mha_blocks): ModuleList(\n",
      "    (0-3): 4 x TransformerEncoderLayer(\n",
      "      (self_attn): MultiheadAttention(\n",
      "        (out_proj): NonDynamicallyQuantizableLinear(in_features=128, out_features=128, bias=True)\n",
      "      )\n",
      "      (linear1): Linear(in_features=128, out_features=2048, bias=True)\n",
      "      (dropout): Dropout(p=0.1, inplace=False)\n",
      "      (linear2): Linear(in_features=2048, out_features=128, bias=True)\n",
      "      (norm1): LayerNorm((128,), eps=1e-05, elementwise_affine=True)\n",
      "      (norm2): LayerNorm((128,), eps=1e-05, elementwise_affine=True)\n",
      "      (dropout1): Dropout(p=0.1, inplace=False)\n",
      "      (dropout2): Dropout(p=0.1, inplace=False)\n",
      "    )\n",
      "  )\n",
      "  (trans_conv): Sequential(\n",
      "    (0): Conv2d(128, 128, kernel_size=(3, 3), stride=(1, 1), padding=(1, 1))\n",
      "    (1): ReLU()\n",
      "    (2): ConvTranspose2d(128, 64, kernel_size=(4, 4), stride=(4, 4))\n",
      "    (3): ReLU()\n",
      "    (4): ConvTranspose2d(64, 1, kernel_size=(8, 8), stride=(8, 8))\n",
      "  )\n",
      ")\n"
     ]
    }
   ],
   "source": [
    "print(decoder2)"
   ]
  },
  {
   "cell_type": "code",
   "execution_count": 12,
   "id": "25118f02",
   "metadata": {},
   "outputs": [
    {
     "name": "stdout",
     "output_type": "stream",
     "text": [
      "No of trainable parameters in the decoder - 3179969\n"
     ]
    }
   ],
   "source": [
    "num_d = sum(d.numel() for d in decoder2.parameters() if d.requires_grad)\n",
    "print(\"No of trainable parameters in the decoder -\", num_d)"
   ]
  },
  {
   "cell_type": "markdown",
   "id": "7dd88d01",
   "metadata": {},
   "source": [
    "Training Loop"
   ]
  },
  {
   "cell_type": "code",
   "execution_count": 13,
   "id": "ed3d74b0",
   "metadata": {},
   "outputs": [],
   "source": [
    "class DICELoss(nn.Module): \n",
    "    def __init__(self, alpha=0.7, smooth=1):\n",
    "        super(DICELoss, self).__init__()\n",
    "        self.alpha = alpha\n",
    "        self.smooth = smooth\n",
    "        \n",
    "    def forward(self, y_pred, y_true):\n",
    "        y_pred_pos = torch.sigmoid(y_pred)\n",
    "        \n",
    "        y_pred_pos = y_pred_pos.view(-1)\n",
    "        y_true = y_true.view(-1)\n",
    "        \n",
    "        TP = (y_pred_pos * y_true).sum()    \n",
    "       \n",
    "        dice_score = (2*TP + self.smooth) / (2*TP + y_pred_pos.sum() + y_true.sum() + self.smooth)\n",
    "        \n",
    "        return 1 - dice_score"
   ]
  },
  {
   "cell_type": "code",
   "execution_count": 14,
   "id": "6d35af55",
   "metadata": {},
   "outputs": [],
   "source": [
    "# Hyper-parameters\n",
    "import torch.optim.lr_scheduler as lr_scheduler\n",
    "criterion = DICELoss()\n",
    "optimizer = torch.optim.SGD(decoder2.parameters(), lr=1e-4)\n",
    "gamma = 0.9\n",
    "scheduler = lr_scheduler.ExponentialLR(optimizer, gamma=gamma)"
   ]
  },
  {
   "cell_type": "code",
   "execution_count": 15,
   "id": "218fe1b7",
   "metadata": {},
   "outputs": [
    {
     "name": "stdout",
     "output_type": "stream",
     "text": [
      "loss at epoch 1/10, iteration 2000/24001: 0.7690305709838867\n",
      "loss at epoch 1/10, iteration 4000/24001: 0.9905737042427063\n",
      "loss at epoch 1/10, iteration 6000/24001: 0.9686517715454102\n",
      "loss at epoch 1/10, iteration 8000/24001: 0.6033329963684082\n",
      "loss at epoch 1/10, iteration 10000/24001: 0.8289849758148193\n",
      "loss at epoch 1/10, iteration 12000/24001: 0.8551714420318604\n",
      "loss at epoch 1/10, iteration 14000/24001: 0.9921943545341492\n",
      "loss at epoch 1/10, iteration 16000/24001: 0.931995689868927\n",
      "loss at epoch 1/10, iteration 18000/24001: 0.7750867009162903\n",
      "loss at epoch 1/10, iteration 20000/24001: 0.8315820693969727\n",
      "loss at epoch 1/10, iteration 22000/24001: 0.8490604162216187\n",
      "loss at epoch 1/10, iteration 24000/24001: 0.7683706879615784\n",
      "loss at epoch 2/10, iteration 2000/24001: 0.8586768507957458\n",
      "loss at epoch 2/10, iteration 4000/24001: 0.8838991522789001\n",
      "loss at epoch 2/10, iteration 6000/24001: 0.7216893434524536\n",
      "loss at epoch 2/10, iteration 8000/24001: 0.7167798280715942\n",
      "loss at epoch 2/10, iteration 10000/24001: 0.9186277389526367\n",
      "loss at epoch 2/10, iteration 12000/24001: 0.7783992290496826\n",
      "loss at epoch 2/10, iteration 14000/24001: 0.877432107925415\n",
      "loss at epoch 2/10, iteration 16000/24001: 0.6786843538284302\n",
      "loss at epoch 2/10, iteration 18000/24001: 0.8006700277328491\n",
      "loss at epoch 2/10, iteration 20000/24001: 0.9358676075935364\n",
      "loss at epoch 2/10, iteration 22000/24001: 0.6551624536514282\n",
      "loss at epoch 2/10, iteration 24000/24001: 0.9824103116989136\n",
      "loss at epoch 3/10, iteration 2000/24001: 0.9406934976577759\n",
      "loss at epoch 3/10, iteration 4000/24001: 0.9703391194343567\n",
      "loss at epoch 3/10, iteration 6000/24001: 0.8749547004699707\n",
      "loss at epoch 3/10, iteration 8000/24001: 0.9612948298454285\n",
      "loss at epoch 3/10, iteration 10000/24001: 0.685295045375824\n",
      "loss at epoch 3/10, iteration 12000/24001: 0.8930436372756958\n",
      "loss at epoch 3/10, iteration 14000/24001: 0.8777832984924316\n",
      "loss at epoch 3/10, iteration 16000/24001: 0.6262181401252747\n",
      "loss at epoch 3/10, iteration 18000/24001: 0.8200616836547852\n",
      "loss at epoch 3/10, iteration 20000/24001: 0.838150143623352\n",
      "loss at epoch 3/10, iteration 22000/24001: 0.9234127402305603\n",
      "loss at epoch 3/10, iteration 24000/24001: 0.9446271061897278\n",
      "loss at epoch 4/10, iteration 2000/24001: 0.9978658556938171\n",
      "loss at epoch 4/10, iteration 4000/24001: 0.626417338848114\n",
      "loss at epoch 4/10, iteration 6000/24001: 0.7303228378295898\n",
      "loss at epoch 4/10, iteration 8000/24001: 0.9752827882766724\n",
      "loss at epoch 4/10, iteration 10000/24001: 0.784767746925354\n",
      "loss at epoch 4/10, iteration 12000/24001: 0.9693841338157654\n",
      "loss at epoch 4/10, iteration 14000/24001: 0.8602131009101868\n",
      "loss at epoch 4/10, iteration 16000/24001: 0.9247868657112122\n",
      "loss at epoch 4/10, iteration 18000/24001: 0.9831050038337708\n",
      "loss at epoch 4/10, iteration 20000/24001: 0.6390190720558167\n",
      "loss at epoch 4/10, iteration 22000/24001: 0.98179030418396\n",
      "loss at epoch 4/10, iteration 24000/24001: 0.9255399703979492\n",
      "loss at epoch 5/10, iteration 2000/24001: 0.9460805058479309\n",
      "loss at epoch 5/10, iteration 4000/24001: 0.9592799544334412\n",
      "loss at epoch 5/10, iteration 6000/24001: 0.871626079082489\n",
      "loss at epoch 5/10, iteration 8000/24001: 0.7897348403930664\n",
      "loss at epoch 5/10, iteration 10000/24001: 0.9548882246017456\n",
      "loss at epoch 5/10, iteration 12000/24001: 0.9644873738288879\n",
      "loss at epoch 5/10, iteration 14000/24001: 0.8434747457504272\n",
      "loss at epoch 5/10, iteration 16000/24001: 0.994166910648346\n",
      "loss at epoch 5/10, iteration 18000/24001: 0.864794909954071\n",
      "loss at epoch 5/10, iteration 20000/24001: 0.7824563384056091\n",
      "loss at epoch 5/10, iteration 22000/24001: 0.9917588829994202\n",
      "loss at epoch 5/10, iteration 24000/24001: 0.7727723121643066\n",
      "loss at epoch 6/10, iteration 2000/24001: 0.7347612977027893\n",
      "loss at epoch 6/10, iteration 4000/24001: 0.8793640732765198\n",
      "loss at epoch 6/10, iteration 6000/24001: 0.9965636730194092\n",
      "loss at epoch 6/10, iteration 8000/24001: 0.7733292579650879\n",
      "loss at epoch 6/10, iteration 10000/24001: 0.8489694595336914\n",
      "loss at epoch 6/10, iteration 12000/24001: 0.9020884037017822\n",
      "loss at epoch 6/10, iteration 14000/24001: 0.688446044921875\n",
      "loss at epoch 6/10, iteration 16000/24001: 0.9789146184921265\n",
      "loss at epoch 6/10, iteration 18000/24001: 0.8179315328598022\n",
      "loss at epoch 6/10, iteration 20000/24001: 0.8821434378623962\n",
      "loss at epoch 6/10, iteration 22000/24001: 0.7020714282989502\n",
      "loss at epoch 6/10, iteration 24000/24001: 0.9887059330940247\n",
      "loss at epoch 7/10, iteration 2000/24001: 0.9017614126205444\n",
      "loss at epoch 7/10, iteration 4000/24001: 0.9421684741973877\n",
      "loss at epoch 7/10, iteration 6000/24001: 0.7824037671089172\n",
      "loss at epoch 7/10, iteration 8000/24001: 0.9887909889221191\n",
      "loss at epoch 7/10, iteration 10000/24001: 0.8406320810317993\n",
      "loss at epoch 7/10, iteration 12000/24001: 0.9817959070205688\n",
      "loss at epoch 7/10, iteration 14000/24001: 0.7740510702133179\n",
      "loss at epoch 7/10, iteration 16000/24001: 0.591402530670166\n",
      "loss at epoch 7/10, iteration 18000/24001: 0.7831234931945801\n",
      "loss at epoch 7/10, iteration 20000/24001: 0.6736060380935669\n",
      "loss at epoch 7/10, iteration 22000/24001: 0.9937012791633606\n",
      "loss at epoch 7/10, iteration 24000/24001: 0.9704957008361816\n",
      "loss at epoch 8/10, iteration 2000/24001: 0.8386074900627136\n",
      "loss at epoch 8/10, iteration 4000/24001: 0.9735503792762756\n",
      "loss at epoch 8/10, iteration 6000/24001: 0.9316307306289673\n",
      "loss at epoch 8/10, iteration 8000/24001: 0.9078532457351685\n",
      "loss at epoch 8/10, iteration 10000/24001: 0.8715689182281494\n",
      "loss at epoch 8/10, iteration 12000/24001: 0.8854242563247681\n",
      "loss at epoch 8/10, iteration 14000/24001: 0.9638245105743408\n",
      "loss at epoch 8/10, iteration 16000/24001: 0.96114182472229\n",
      "loss at epoch 8/10, iteration 18000/24001: 0.6140576601028442\n",
      "loss at epoch 8/10, iteration 20000/24001: 0.7207733392715454\n",
      "loss at epoch 8/10, iteration 22000/24001: 0.8217493295669556\n",
      "loss at epoch 8/10, iteration 24000/24001: 0.7220295667648315\n",
      "loss at epoch 9/10, iteration 2000/24001: 0.9456937909126282\n",
      "loss at epoch 9/10, iteration 4000/24001: 0.7412503361701965\n",
      "loss at epoch 9/10, iteration 6000/24001: 0.9556215405464172\n",
      "loss at epoch 9/10, iteration 8000/24001: 0.8994587063789368\n",
      "loss at epoch 9/10, iteration 10000/24001: 0.7712323069572449\n",
      "loss at epoch 9/10, iteration 12000/24001: 0.7497199177742004\n",
      "loss at epoch 9/10, iteration 14000/24001: 0.9677704572677612\n",
      "loss at epoch 9/10, iteration 16000/24001: 0.9609909057617188\n",
      "loss at epoch 9/10, iteration 18000/24001: 0.9615010023117065\n",
      "loss at epoch 9/10, iteration 20000/24001: 0.8716617822647095\n",
      "loss at epoch 9/10, iteration 22000/24001: 0.977060854434967\n",
      "loss at epoch 9/10, iteration 24000/24001: 0.6229817867279053\n",
      "loss at epoch 10/10, iteration 2000/24001: 0.8265434503555298\n",
      "loss at epoch 10/10, iteration 4000/24001: 0.861393928527832\n",
      "loss at epoch 10/10, iteration 6000/24001: 0.6857222318649292\n",
      "loss at epoch 10/10, iteration 8000/24001: 0.6546892523765564\n",
      "loss at epoch 10/10, iteration 10000/24001: 0.7879064679145813\n",
      "loss at epoch 10/10, iteration 12000/24001: 0.870908260345459\n",
      "loss at epoch 10/10, iteration 14000/24001: 0.9224013686180115\n",
      "loss at epoch 10/10, iteration 16000/24001: 0.9290803074836731\n",
      "loss at epoch 10/10, iteration 18000/24001: 0.7898205518722534\n",
      "loss at epoch 10/10, iteration 20000/24001: 0.6972045302391052\n",
      "loss at epoch 10/10, iteration 22000/24001: 0.9109388589859009\n",
      "loss at epoch 10/10, iteration 24000/24001: 0.8215992450714111\n"
     ]
    }
   ],
   "source": [
    "# Training Loop\n",
    "n_total_steps = len(train)\n",
    "loss_history = []\n",
    "num_epochs = 10\n",
    "\n",
    "for epoch in range(num_epochs):\n",
    "    for i, (phrase, ip_image, op_image, _) in enumerate(train):\n",
    "        if ip_image[0].dim() != 3:\n",
    "            continue\n",
    "        \n",
    "        # Using CLIP to encode\n",
    "        encodings = encoder2(transforms.ToPILImage()(ip_image[0].permute(2, 0, 1)).convert(\"RGB\"), phrase[0])\n",
    "            \n",
    "        # Using a custom decoder\n",
    "        output = decoder2(encodings)\n",
    "        \n",
    "        loss = criterion(output[0][0], op_image[0])\n",
    "        \n",
    "        optimizer.zero_grad()\n",
    "        loss.backward()\n",
    "        optimizer.step()\n",
    "        \n",
    "        # Printing the loss at regular intervals\n",
    "        if (i+1) % 2000 == 0:\n",
    "            print(f\"loss at epoch {epoch+1}/{num_epochs}, iteration {i+1}/{n_total_steps}: {loss.item()}\")\n",
    "            loss_history.append(loss.item())\n",
    "\n",
    "    # Step the scheduler after each epoch\n",
    "    scheduler.step()"
   ]
  },
  {
   "cell_type": "markdown",
   "id": "03751d24",
   "metadata": {},
   "source": [
    "Saving the decoder weights"
   ]
  },
  {
   "cell_type": "code",
   "execution_count": 16,
   "id": "5552a7f1",
   "metadata": {},
   "outputs": [],
   "source": [
    "# Saving the decoder weights\n",
    "torch.save(decoder2.state_dict(), \"decoder2_DICELoss.pth\")"
   ]
  },
  {
   "cell_type": "markdown",
   "id": "066e2ae4",
   "metadata": {},
   "source": [
    "Evaluating the model on Val set"
   ]
  },
  {
   "cell_type": "code",
   "execution_count": 17,
   "id": "7eb66bd3",
   "metadata": {},
   "outputs": [
    {
     "name": "stdout",
     "output_type": "stream",
     "text": [
      "accuracy pixel-by-pixel is - 10.485163688659668%\n",
      "accuracy by iou is - 10.485163688659668%\n",
      "accuracy by dice-scores is - 16.220609664916992%\n"
     ]
    }
   ],
   "source": [
    "# Calculating the accuracies based on pixel-by-pixel, iou and dice scores on the val set\n",
    "sigmoid = nn.Sigmoid()\n",
    "with torch.no_grad():\n",
    "    accuracy_pixel_by_pixel = []\n",
    "    accuracy_iou = []\n",
    "    accuracy_dice_score = []\n",
    "    \n",
    "    n_total_steps = len(val)\n",
    "    \n",
    "    for i, (pharase, ip_image, op_image, _) in enumerate(val):\n",
    "\n",
    "        encodings = encoder2(transforms.ToPILImage()(ip_image[0].permute(2, 0, 1)).convert(\"RGB\"), phrase[0])\n",
    "        output = decoder2(encodings)\n",
    "        accuracy_pixel_by_pixel.append(torch.sum((output[0][0]>0) == op_image[0])/(224*224))\n",
    "\n",
    "        output = sigmoid(output)\n",
    "        \n",
    "        intersection = torch.sum((output[0][0]>0)*op_image[0]) \n",
    "        union = torch.sum(output[0][0] > 0)+torch.sum(op_image[0]) - intersection\n",
    "        accuracy_iou.append(intersection/union)\n",
    "        \n",
    "        numerator = 2*torch.sum((output[0][0]>0)*op_image[0]) + 1e-6\n",
    "        denominator = torch.sum(op_image[0]**2) + torch.sum((output[0][0]>0)**2) + 1e-6\n",
    "        accuracy_dice_score.append(numerator/denominator)\n",
    "        \n",
    "    print(f\"accuracy pixel-by-pixel is - {100*sum(accuracy_pixel_by_pixel)/len(accuracy_pixel_by_pixel)}%\")\n",
    "    print(f\"accuracy by iou is - {100*sum(accuracy_iou)/len(accuracy_iou)}%\")\n",
    "    print(f\"accuracy by dice-scores is - {100*sum(accuracy_dice_score)/len(accuracy_dice_score)}%\")"
   ]
  },
  {
   "cell_type": "markdown",
   "id": "f6a0d865",
   "metadata": {},
   "source": [
    "Evaluating the model on test set"
   ]
  },
  {
   "cell_type": "code",
   "execution_count": 18,
   "id": "82a02135",
   "metadata": {},
   "outputs": [
    {
     "name": "stdout",
     "output_type": "stream",
     "text": [
      "accuracy by pixel-by-pixel is - 9.618974%\n",
      "accuracy by iou is - 9.618974%\n",
      "accuracy by dice-scores is - 15.002019%\n"
     ]
    }
   ],
   "source": [
    "# Calculating the accuracies based on pixel-by-pixel, iou and dice scores on the test set\n",
    "sigmoid = nn.Sigmoid()\n",
    "with torch.no_grad():\n",
    "    accuracy_pixel_by_pixel = []\n",
    "    accuracy_iou = []\n",
    "    accuracy_dice_score = []\n",
    "    \n",
    "    n_total_steps = len(test)\n",
    "    \n",
    "    for i, (pharase, ip_image, op_image, _) in enumerate(test):\n",
    "        encodings = encoder2(transforms.ToPILImage()(ip_image[0].permute(2, 0, 1)).convert(\"RGB\"), phrase[0])\n",
    "        output = decoder2(encodings)\n",
    "        accuracy_pixel_by_pixel.append(torch.sum((output[0][0]>0) == op_image[0])/(224*224))\n",
    "\n",
    "        output = sigmoid(output)\n",
    "        \n",
    "        intersection = torch.sum((output[0][0]>0)*op_image[0]) \n",
    "        union = torch.sum(output[0][0] > 0)+torch.sum(op_image[0]) - intersection\n",
    "        accuracy_iou.append(intersection/union)\n",
    "        \n",
    "        numerator = 2*torch.sum((output[0][0]>0)*op_image[0]) + 1e-6\n",
    "        denominator = torch.sum(op_image[0]**2) + torch.sum((output[0][0]>0)**2) + 1e-6\n",
    "        accuracy_dice_score.append(numerator/denominator)\n",
    "        \n",
    "    print(f\"accuracy by pixel-by-pixel is - {100*sum(accuracy_pixel_by_pixel)/len(accuracy_pixel_by_pixel) :.6f}%\")\n",
    "    print(f\"accuracy by iou is - {100*sum(accuracy_iou)/len(accuracy_iou) :.6f}%\")\n",
    "    print(f\"accuracy by dice-scores is - {100*sum(accuracy_dice_score)/len(accuracy_dice_score) :.6f}%\")"
   ]
  },
  {
   "cell_type": "markdown",
   "id": "61734fa9",
   "metadata": {},
   "source": [
    "Running it on a random image from val_data"
   ]
  },
  {
   "cell_type": "code",
   "execution_count": 19,
   "id": "4be4b91b",
   "metadata": {},
   "outputs": [
    {
     "name": "stdout",
     "output_type": "stream",
     "text": [
      "<class 'torch.Tensor'> torch.Size([224, 224]) tensor([0., 1.])\n"
     ]
    }
   ],
   "source": [
    "with torch.no_grad():\n",
    "    encodings = encoder2(Image.open(\"phrasecut_dataset\\VGPhraseCut_V0_sub_train+val\\\\val\\images\\\\2365666.jpg\"), \"sheep grazing field\")\n",
    "    output = decoder2(encodings)\n",
    "    output = sigmoid(output)\n",
    "    threshold = (output.max() + output.min())/2\n",
    "    output = (output >= threshold).float()\n",
    "    output = output[0][0]\n",
    "    print(type(output), output.size(), torch.unique(output))\n",
    "    img = transforms.ToPILImage()(output)\n",
    "    img.show()"
   ]
  },
  {
   "cell_type": "markdown",
   "id": "a523e588",
   "metadata": {},
   "source": [
    "Plotting Loss History"
   ]
  },
  {
   "cell_type": "code",
   "execution_count": 20,
   "id": "add89247",
   "metadata": {},
   "outputs": [
    {
     "data": {
      "image/png": "[encoded data removed]",
      "text/plain": [
       "<Figure size 640x480 with 1 Axes>"
      ]
     },
     "metadata": {},
     "output_type": "display_data"
    }
   ],
   "source": [
    "#Plot of loss history\n",
    "import matplotlib.pyplot as plt\n",
    "plt.plot(loss_history)\n",
    "plt.xlabel('Time')\n",
    "plt.ylabel('Loss')\n",
    "plt.show()"
   ]
  },
  {
   "cell_type": "code",
   "execution_count": null,
   "id": "e2637a91",
   "metadata": {},
   "outputs": [],
   "source": []
  }
 ],
 "metadata": {
  "kernelspec": {
   "display_name": "Python 3",
   "language": "python",
   "name": "python3"
  },
  "language_info": {
   "codemirror_mode": {
    "name": "ipython",
    "version": 3
   },
   "file_extension": ".py",
   "mimetype": "text/x-python",
   "name": "python",
   "nbconvert_exporter": "python",
   "pygments_lexer": "ipython3",
   "version": "3.12.4"
  }
 },
 "nbformat": 4,
 "nbformat_minor": 5
}
